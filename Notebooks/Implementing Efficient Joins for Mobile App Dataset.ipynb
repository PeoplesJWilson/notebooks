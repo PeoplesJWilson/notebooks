{
 "cells": [
  {
   "attachments": {},
   "cell_type": "markdown",
   "metadata": {},
   "source": [
    "# Implementing Efficient Joins on Mobile App Data\n",
    "\n",
    "No real world problem involving data begins with a single .csv file: much more common is the case of many files from various sources.  When combining data from various sources, it often becomes neccesary to __join__ our data properly. While languages such as SQL, or libraries such as pandas, have optimized ways to do this, one still may wonder the following important question: \n",
    "\n",
    "\n",
    "<h4 align=\"center\">What's happening \"behind the scenes\" when we join two tables with an SQL query, or two DataFrames with a pandas method? </h4>\n",
    "\n",
    "In this notebook, we'll be studying the algorithms behind the joins. To do this, we'll use the data from two files: \n",
    "\n",
    "- AppleStore.csv - a file containing data on apps from the Apple App Store\n",
    "- googleplaystore.csv - a file containing data on apps from the Google Playstore\n",
    "\n",
    "After carefully cleaning the datasets, we'll create a python *Table() class* which implements the following join algorithms:\n",
    "- Nested Loop Join \n",
    "- Hash Join\n",
    "- Merge Join\n",
    "\n",
    "to perform inner and left equi-joins. We'll then demonstrate our *class* on the above datasets, and use the performance to study the time and space complexity of each algorithm. \n",
    "\n",
    "\n",
    "# Summary\n",
    "In the end, we found both theoretically and experimentally that:\n",
    "- Nested Loop Join has time complexity O(N^2)\n",
    "- Hash Join has time complexity O(N)\n",
    "- Merge Join has time complexity O(N log N)\n",
    "\n",
    "where N is the number of rows in each table (we assumed for simplicity that both tables have a similar number of rows). We conclude that the Hash join is the most efficient algorithm for our purposes. A figure demonstrating the time complexity of our implementation of each of the above algorithms is shown below.\n",
    "<div align = \"center\">\n",
    "<img  src=photos\"join_time_complexity_comparison.png\" alt=\"drawing\" width=\"600\"/>\n",
    "</div>\n",
    "\n",
    "Its important to note that in this notebook, we only considered \"equi join\" conditions. For non-equi join conditions, the other algorithms show much more potential. To read more about non-equi joins, please see [this link](https://www.w3resource.com/sql/joins/perform-a-non-equi-join.php).  \n",
    "\n",
    "The final version of the *Table() class*, which we build throughout this notebook, is found below. "
   ]
  },
  {
   "cell_type": "code",
   "execution_count": null,
   "metadata": {},
   "outputs": [],
   "source": [
    "class Table():\n",
    "    #_______________________\n",
    "    # reads in csv_filename, \n",
    "    # assigns attributes: self.header, self.rows \n",
    "    def __init__(self,csv_filename = None, encoding = 'utf8'):\n",
    "        if csv_filename == None:\n",
    "            self.header = []\n",
    "            self.rows = []\n",
    "        else:\n",
    "            #use context manager to read filename to list of lists\n",
    "            with open(csv_filename, encoding = encoding) as file:\n",
    "                data = list(csv.reader(file))\n",
    "            self.header = data[0]\n",
    "            self.rows = data[1:]\n",
    "\n",
    "\n",
    "    #_______________________________________\n",
    "    #display a range of rows from the dataset\n",
    "    def explore(self, start = 0, end = 5, show_size=False):  \n",
    "        print(self.header)\n",
    "        print('\\n')  \n",
    "        for row in self.rows[start:end]:\n",
    "            print(row)\n",
    "            print('\\n') \n",
    "\n",
    "        if show_size:\n",
    "            print('Number of rows:', len(self.rows))\n",
    "            print('Number of columns:', len(self.header))\n",
    "\n",
    "\n",
    "    #_________________________________\n",
    "    #returns list of duplicated values \n",
    "    # occuring in column (id_index)\n",
    "    def detect_duplicates(self, id_index = 0):\n",
    "        duplicates = []\n",
    "        uniques = set()\n",
    "        for row in self.rows:                           #O(N)\n",
    "            id = row[id_index]                              #O(1)\n",
    "            if id in uniques:                               #O(1) <--- Since unique is a set\n",
    "                duplicates.append(id)\n",
    "            else:\n",
    "                uniques.add(id)\n",
    "        return duplicates\n",
    "    \n",
    "\n",
    "    #_______________________\n",
    "    # helper method for joins\n",
    "    # returns a list (header) for joined table\n",
    "    def generate_joined_header(self, table, on_index_right, \n",
    "                               left_suffix, right_suffix):\n",
    "         #append left suffix to column names\n",
    "        left_table_header = self.header\n",
    "        left_column_names = [column_name + '_' + left_suffix \n",
    "                                for column_name in left_table_header]\n",
    "\n",
    "        #remove redunant column name\n",
    "        right_table_header = table.header[0:on_index_right] + table.header[on_index_right + 1:]\n",
    "\n",
    "        #append right suffix to column names\n",
    "        right_column_names = [column_name + '_' + right_suffix \n",
    "                                for column_name in right_table_header]\n",
    "        return left_column_names + right_column_names\n",
    "    \n",
    "\n",
    "    #_______________________________________\n",
    "    #performs inner or left join \n",
    "    # using \"nested loop join\" algorithm \n",
    "    def nested_loop_join(self, table, kind = 'inner', \n",
    "                        on_index_left = 0, on_index_right = 0, \n",
    "                        left_suffix = '', right_suffix = ''):\n",
    "        \n",
    "        #initialize empty table for returning\n",
    "        joined_table = Table()\n",
    "        \n",
    "       \n",
    "        #use helper method to define header for new table\n",
    "        joined_table.header =  self.generate_joined_header(table, on_index_right=on_index_right,\n",
    "                                                           left_suffix=left_suffix,right_suffix=right_suffix)\n",
    "\n",
    "        #nested loop join algorithm\n",
    "        for row_1 in self.rows:                                                         #O(N)\n",
    "            no_match = True\n",
    "            for row_2 in table.rows:                                                        #O(N) <--- total O(N^2)\n",
    "                if row_1[on_index_left] == row_2[on_index_right]:\n",
    "                    no_match= False\n",
    "                    row_3 = row_1 + row_2[0:on_index_right] + row_2[on_index_right+1:]\n",
    "                    joined_table.rows.append(row_3)\n",
    "            #on left joins, keep unmatched row from self.rows\n",
    "            if (no_match) and (kind == 'left'):\n",
    "                row_3 = row_1 + ['' for _ in range(len(table.header)-1)]       \n",
    "                joined_table.rows.append(row_3)\n",
    "\n",
    "        return joined_table\n",
    "    \n",
    "    #_______________________________________\n",
    "    #performs inner or left join \n",
    "    # using \"Hash Join\" algorithm \n",
    "    def hash_join(self, table, kind = 'inner', \n",
    "                        on_index_left = 0, on_index_right = 0, \n",
    "                        left_suffix = '', right_suffix = ''):\n",
    "        \n",
    "        #initialize empty table for returning\n",
    "        joined_table = Table()\n",
    "        \n",
    "       \n",
    "        #use helper method to define header for new table\n",
    "        joined_table.header =  self.generate_joined_header(table, on_index_right=on_index_right,\n",
    "                                                           left_suffix=left_suffix,right_suffix=right_suffix)\n",
    "        hash_table = {}\n",
    "        # build hash table on right Table()\n",
    "        for row in table.rows:                                      #O(N)\n",
    "            hash_table[row[on_index_right]] = row\n",
    "        # probe each row on left Table() for \n",
    "        # matches in hash_table\n",
    "        for row_1 in self.rows:                                     #O(N)     \n",
    "            if row_1[on_index_left] in hash_table:                  #O(1) \n",
    "                    no_match= False\n",
    "                    row_2 = hash_table[row_1[on_index_left]]\n",
    "                    joined_row = row_1 + row_2[0:on_index_right] + row_2[on_index_right+1:]\n",
    "                    joined_table.rows.append(joined_row)\n",
    "            elif kind == 'left':\n",
    "                joined_row = row_1 + ['' for _ in range(len(table.header)-1)]       \n",
    "                joined_table.rows.append(joined_row)\n",
    "\n",
    "        return joined_table\n",
    "    \n",
    "    #_______________________________________\n",
    "    #performs inner or left join \n",
    "    # using \"Merge Join\" algorithm \n",
    "    def merge_join(self, table, kind = 'inner', \n",
    "                        on_index_left = 0, on_index_right = 0, \n",
    "                        left_suffix = '', right_suffix = ''):\n",
    "    \n",
    "        #initialize empty table for returning\n",
    "        joined_table = Table()\n",
    "        \n",
    "       \n",
    "        #use helper method to define header for new table\n",
    "        joined_table.header =  self.generate_joined_header(table, on_index_right=on_index_right,\n",
    "                                                           left_suffix=left_suffix,right_suffix=right_suffix)\n",
    "        \n",
    "        # helper fuction for table sorting\n",
    "        def row_index(row):\n",
    "            return row[-1]\n",
    "        \n",
    "        #sort each table\n",
    "        self.rows = sorted(self.rows, key = row_index)      #O(N log N)\n",
    "        table.rows = sorted(table.rows, key = row_index)    #O(N log N) <-- assuming tables ~ equal size\n",
    "\n",
    "        j = 0\n",
    "        #merge join algorithm\n",
    "        for row_1 in self.rows:                         #O(N)\n",
    "            no_match = True   \n",
    "            row_1_index = row_1[-1]\n",
    "            index_difference = row_1_index\n",
    "            #dont iterate row_1 until row_2's index is bigger\n",
    "            while index_difference >= 0:                    \n",
    "                row_2 = table.rows[j]\n",
    "                index_difference = row_1[-1] - row_2[-1]\n",
    "                #if a match is found, join rows\n",
    "                if (index_difference == 0):\n",
    "                    no_match = False\n",
    "                    joined_row = row_1 + row_2[0:on_index_right] + row_2[on_index_right+1:]\n",
    "                    joined_table.rows.append(joined_row)\n",
    "                    if j == (len(table.rows) - 1):\n",
    "                        index_difference = -10\n",
    "                    else:\n",
    "                        j = j + 1\n",
    "                # if row_2's index is too small, look further down\n",
    "                elif index_difference > 0:\n",
    "\n",
    "                    if j == (len(table.rows) - 1): #<---- if j index is at a maximum, iterate row_1\n",
    "                        index_difference = -10\n",
    "                    else:\n",
    "                        j = j + 1\n",
    "                \n",
    "            #keep unmatched rows for left joins   \n",
    "            if (no_match) and (kind == 'left'):\n",
    "                joined_row = row_1 + ['' for _ in range(len(table.header)-1)]       \n",
    "                joined_table.rows.append(joined_row)\n",
    "  \n",
    "        return joined_table"
   ]
  },
  {
   "attachments": {},
   "cell_type": "markdown",
   "metadata": {},
   "source": [
    "# About the Datasets\n",
    "The Google Play dataset contains data from about 10,000 apps. This data was collected in August 2018. The full dataset can be found [here](https://www.kaggle.com/datasets/lava18/google-play-store-apps). The following table describes each column.\n",
    "\n",
    "| Column name | Description |\n",
    "| --- | --- |\n",
    "| app |Application name |\n",
    "| category | Category the app belongs to |\n",
    "| rating | Overall user rating of the app (as when scraped) |\n",
    "| reviews |  Number of user reviews for the app (as when scraped) | \n",
    "| size | Size of the app (as when scraped) |\n",
    "| installs | Number of user downloads/installs for the app (as when scraped) |\n",
    "| type | Paid or free |\n",
    "| price | Price of the app (as when scraped) |\n",
    "|content rating| Age group the app is targeted at - Children / Mature 21+ / Adult |\n",
    "| genres | An app can belong to multiple genres (apart from its main category) |\n",
    "\n",
    "Similarly, the Apple Store dataset contains data from approximately 7,000 apps, and can be found [here](https://www.kaggle.com/datasets/ramamet4/app-store-apple-data-set-10k-apps). This data was collected July of 2017. The following table summarizes each column.  \n",
    "\n",
    "| Column name | Description |\n",
    "| --- | --- |\n",
    "|\"id\" | App ID |\n",
    "|\"track_name\"| App Name|\n",
    "|\"size_bytes\" | Size (in Bytes) |\n",
    "|\"currency\"| Currency Type|\n",
    "|\"price\" | Price amount|\n",
    "|\"ratingcounttot\" | User Rating counts (for all version)|\n",
    "|\"ratingcountver\" | User Rating counts (for current version)|\n",
    "|\"user_rating\" | Average User Rating value (for all version) |\n",
    "|\"userratingver\"| Average User Rating value (for current version)|\n",
    "|\"ver\" | Latest version code |\n",
    "|\"cont_rating\"| Content Rating |\n",
    "|\"prime_genre\"| Primary Genre |\n",
    "|\"sup_devices.num\"| Number of supporting devices |\n",
    "|\"ipadSc_urls.num\"| Number of screenshots showed for display |\n",
    "|\"lang.num\"| Number of supported languages |\n",
    "|\"vpp_lic\"| Vpp Device Based Licensing Enabled |"
   ]
  },
  {
   "attachments": {},
   "cell_type": "markdown",
   "metadata": {},
   "source": [
    "# Initial Data Exploration\n",
    "\n",
    "Before we delve into cleaning the datasets, let's define a first version of our *Table() class*. We'll be improving on this class throughout the notebook. For now, we simply need to inspect the data, and keep the header and rows separate. "
   ]
  },
  {
   "cell_type": "code",
   "execution_count": 1,
   "metadata": {},
   "outputs": [],
   "source": [
    "import csv\n",
    "class Table():\n",
    "    #_______________________\n",
    "    # reads in csv_filename, \n",
    "    # assigns attributes: self.header, self.rows \n",
    "    def __init__(self,csv_filename, encoding = 'utf8'):\n",
    "        #use context manager to read filename to list of lists\n",
    "        with open(csv_filename, encoding = encoding) as file:\n",
    "            data = list(csv.reader(file))\n",
    "        self.header = data[0]\n",
    "        self.rows = data[1:]\n",
    "\n",
    "    #_____________________\n",
    "    #display a range of rows from the dataset\n",
    "    def explore(self, start = 0, end = 5, show_size=False):  \n",
    "        print(self.header)\n",
    "        print('\\n')  \n",
    "        for row in self.rows[start:end]:\n",
    "            print(row)\n",
    "            print('\\n') \n",
    "\n",
    "        if show_size:\n",
    "            print('Number of rows:', len(self.rows))\n",
    "            print('Number of columns:', len(self.header))"
   ]
  },
  {
   "attachments": {},
   "cell_type": "markdown",
   "metadata": {},
   "source": [
    "Let's use this class to take an initial look at the data. "
   ]
  },
  {
   "cell_type": "code",
   "execution_count": 2,
   "metadata": {},
   "outputs": [
    {
     "name": "stdout",
     "output_type": "stream",
     "text": [
      "['App', 'Category', 'Rating', 'Reviews', 'Size', 'Installs', 'Type', 'Price', 'Content Rating', 'Genres', 'Last Updated', 'Current Ver', 'Android Ver']\n",
      "\n",
      "\n",
      "['Photo Editor & Candy Camera & Grid & ScrapBook', 'ART_AND_DESIGN', '4.1', '159', '19M', '10,000+', 'Free', '0', 'Everyone', 'Art & Design', 'January 7, 2018', '1.0.0', '4.0.3 and up']\n",
      "\n",
      "\n",
      "['Coloring book moana', 'ART_AND_DESIGN', '3.9', '967', '14M', '500,000+', 'Free', '0', 'Everyone', 'Art & Design;Pretend Play', 'January 15, 2018', '2.0.0', '4.0.3 and up']\n",
      "\n",
      "\n",
      "['U Launcher Lite – FREE Live Cool Themes, Hide Apps', 'ART_AND_DESIGN', '4.7', '87510', '8.7M', '5,000,000+', 'Free', '0', 'Everyone', 'Art & Design', 'August 1, 2018', '1.2.4', '4.0.3 and up']\n",
      "\n",
      "\n",
      "Number of rows: 10841\n",
      "Number of columns: 13\n"
     ]
    }
   ],
   "source": [
    "google = Table('data/googleplaystore.csv')\n",
    "google.explore(end = 3,show_size=True)"
   ]
  },
  {
   "attachments": {},
   "cell_type": "markdown",
   "metadata": {},
   "source": [
    "We can also take a look at the App Store dataset. "
   ]
  },
  {
   "cell_type": "code",
   "execution_count": 3,
   "metadata": {},
   "outputs": [
    {
     "name": "stdout",
     "output_type": "stream",
     "text": [
      "['id', 'track_name', 'size_bytes', 'currency', 'price', 'rating_count_tot', 'rating_count_ver', 'user_rating', 'user_rating_ver', 'ver', 'cont_rating', 'prime_genre', 'sup_devices.num', 'ipadSc_urls.num', 'lang.num', 'vpp_lic']\n",
      "\n",
      "\n",
      "['284882215', 'Facebook', '389879808', 'USD', '0.0', '2974676', '212', '3.5', '3.5', '95.0', '4+', 'Social Networking', '37', '1', '29', '1']\n",
      "\n",
      "\n",
      "['389801252', 'Instagram', '113954816', 'USD', '0.0', '2161558', '1289', '4.5', '4.0', '10.23', '12+', 'Photo & Video', '37', '0', '29', '1']\n",
      "\n",
      "\n",
      "['529479190', 'Clash of Clans', '116476928', 'USD', '0.0', '2130805', '579', '4.5', '4.5', '9.24.12', '9+', 'Games', '38', '5', '18', '1']\n",
      "\n",
      "\n",
      "Number of rows: 7197\n",
      "Number of columns: 16\n"
     ]
    }
   ],
   "source": [
    "apple = Table('data/AppleStore.csv')\n",
    "apple.explore(end = 3,show_size=True)"
   ]
  },
  {
   "attachments": {},
   "cell_type": "markdown",
   "metadata": {},
   "source": [
    "Here are a few initial observations: \n",
    "- columns like price, rating, size, installs can be converted to a numeric datatype, but are currently stored as strings. \n",
    "- The column \"App\" in the google dataset corresponds to the column \"track_name\" in the apple dataset. This will be important when joining tables later on.\n",
    "\n",
    "Let's move on to cleaning the dataset. "
   ]
  },
  {
   "attachments": {},
   "cell_type": "markdown",
   "metadata": {},
   "source": [
    "# Checking for Missing Values\n",
    "\n",
    "To begin the cleaning process, we check to see if there are any missing values. First, for the google dataset:"
   ]
  },
  {
   "cell_type": "code",
   "execution_count": 4,
   "metadata": {},
   "outputs": [
    {
     "name": "stdout",
     "output_type": "stream",
     "text": [
      "['App', 'Category', 'Rating', 'Reviews', 'Size', 'Installs', 'Type', 'Price', 'Content Rating', 'Genres', 'Last Updated', 'Current Ver', 'Android Ver']\n",
      "['Life Made WI-Fi Touchscreen Photo Frame', '1.9', '19', '3.0M', '1,000+', 'Free', '0', 'Everyone', '', 'February 11, 2018', '1.0.19', '4.0 and up']\n",
      "10472\n"
     ]
    }
   ],
   "source": [
    "for i,row in enumerate(google.rows):\n",
    "    if len(row) != len(google.header):\n",
    "        print(google.header)\n",
    "        print(row)\n",
    "        print(i)"
   ]
  },
  {
   "attachments": {},
   "cell_type": "markdown",
   "metadata": {},
   "source": [
    "We see that for this entry, the genre is missing. Since this is only a single row, its safe to drop it. "
   ]
  },
  {
   "cell_type": "code",
   "execution_count": 5,
   "metadata": {},
   "outputs": [
    {
     "name": "stdout",
     "output_type": "stream",
     "text": [
      "['App', 'Category', 'Rating', 'Reviews', 'Size', 'Installs', 'Type', 'Price', 'Content Rating', 'Genres', 'Last Updated', 'Current Ver', 'Android Ver']\n",
      "\n",
      "\n",
      "Number of rows: 10840\n",
      "Number of columns: 13\n"
     ]
    }
   ],
   "source": [
    "del google.rows[10472]\n",
    "google.explore(start = 0, end = 0, show_size=True)"
   ]
  },
  {
   "attachments": {},
   "cell_type": "markdown",
   "metadata": {},
   "source": [
    "Notice that the row was properly removed (as shown by the explore() method). Let's do the same check for the Apple dataset. "
   ]
  },
  {
   "cell_type": "code",
   "execution_count": 6,
   "metadata": {},
   "outputs": [],
   "source": [
    "for i,row in enumerate(apple.rows):\n",
    "    if len(row) != len(apple.header):\n",
    "        print(apple.header)\n",
    "        print(row)\n",
    "        print(i)"
   ]
  },
  {
   "attachments": {},
   "cell_type": "markdown",
   "metadata": {},
   "source": [
    "Nothing was printed, and we conclude this dataset has no missing values!\n",
    "\n",
    "# Detecting Duplicates \n",
    "\n",
    "Now, we can check for duplicates. Let's add a duplicate checking method to our table class."
   ]
  },
  {
   "cell_type": "code",
   "execution_count": 7,
   "metadata": {},
   "outputs": [],
   "source": [
    "class Table():\n",
    "    #_______________________\n",
    "    # reads in csv_filename, \n",
    "    # assigns attributes: self.header, self.rows \n",
    "    def __init__(self,csv_filename, encoding = 'utf8'):\n",
    "        #use context manager to read filename to list of lists\n",
    "        with open(csv_filename, encoding = encoding) as file:\n",
    "            data = list(csv.reader(file))\n",
    "        self.header = data[0]\n",
    "        self.rows = data[1:]\n",
    "\n",
    "    #________________________________________\n",
    "    #display a range of rows from the dataset\n",
    "    def explore(self, start = 0, end = 5, show_size=False):  \n",
    "        print(self.header)\n",
    "        print('\\n')  \n",
    "        for row in self.rows[start:end]:\n",
    "            print(row)\n",
    "            print('\\n') \n",
    "\n",
    "        if show_size:\n",
    "            print('Number of rows:', len(self.rows))\n",
    "            print('Number of columns:', len(self.header))\n",
    "\n",
    "\n",
    "    def detect_duplicates(self, id_index = 0):\n",
    "        duplicates = []\n",
    "        uniques = set()\n",
    "        for row in self.rows:               #O(N)\n",
    "            id = row[id_index]\n",
    "            if id in uniques:               #O(1) <-- uniques is a set\n",
    "                duplicates.append(id)\n",
    "            else:\n",
    "                uniques.add(id)\n",
    "        return duplicates"
   ]
  },
  {
   "attachments": {},
   "cell_type": "markdown",
   "metadata": {},
   "source": [
    "Let's use this method to check for duplicate rows."
   ]
  },
  {
   "cell_type": "code",
   "execution_count": 8,
   "metadata": {},
   "outputs": [
    {
     "data": {
      "text/plain": [
       "1181"
      ]
     },
     "execution_count": 8,
     "metadata": {},
     "output_type": "execute_result"
    }
   ],
   "source": [
    "apple = Table('data/AppleStore.csv')\n",
    "google = Table('data/googleplaystore.csv')\n",
    "del google.rows[10472]\n",
    "google_duplicates = google.detect_duplicates()\n",
    "len(google_duplicates)"
   ]
  },
  {
   "attachments": {},
   "cell_type": "markdown",
   "metadata": {},
   "source": [
    "We can see that there are over 1,000 duplicates in the Google Play Store dataset!"
   ]
  },
  {
   "attachments": {},
   "cell_type": "markdown",
   "metadata": {},
   "source": [
    "There are many valid criteria for deciding which rows to keep. In this notebook, we decide to keep the duplicate with the most reviews. To remove duplicates with fewer reviews, we take the following approach.\n",
    "- First, we store the maximum reviews for each app in a dictionary. This is accmplished by the \"maximum_reviews\" function defined below.\n",
    "- Then, we loop through each row and keep only those rows where the reviews are maximized. "
   ]
  },
  {
   "cell_type": "code",
   "execution_count": 9,
   "metadata": {},
   "outputs": [],
   "source": [
    "# This function returns a dictionary with:\n",
    "# keys: app names\n",
    "# values: maximum reviews for each app of given name\n",
    "def maximum_reviews(dataset, name_index, reviews_index):\n",
    "    max_reviews = {}\n",
    "    for app in dataset:\n",
    "        name = app[name_index]\n",
    "        number_reviews = float(app[reviews_index])\n",
    "        if (name in max_reviews) and (max_reviews[name] < number_reviews):\n",
    "            max_reviews[name] = number_reviews\n",
    "        elif name not in max_reviews:\n",
    "            max_reviews[name] = number_reviews\n",
    "    return max_reviews\n",
    "# This function removes duplicates by keeping only apps\n",
    "# where the number of reviews coincides with the maximum\n",
    "def remove_duplicates(dataset, row_dict, name_index, review_index):\n",
    "    data_clean = []\n",
    "    data_added = []\n",
    "    for app in dataset:\n",
    "        name = app[name_index]\n",
    "        number_reviews = float(app[review_index])\n",
    "        if  (number_reviews == row_dict[name]) and (name not in data_added):\n",
    "            data_clean.append(app)\n",
    "            data_added.append(name)\n",
    "    return data_clean"
   ]
  },
  {
   "attachments": {},
   "cell_type": "markdown",
   "metadata": {},
   "source": [
    "Let's use these functions to remove the duplicates from the google play dataset, and check how many rows remain. "
   ]
  },
  {
   "cell_type": "code",
   "execution_count": 10,
   "metadata": {},
   "outputs": [
    {
     "data": {
      "text/plain": [
       "9659"
      ]
     },
     "execution_count": 10,
     "metadata": {},
     "output_type": "execute_result"
    }
   ],
   "source": [
    "max_reviews = maximum_reviews(dataset = google.rows, name_index=0, reviews_index=3)\n",
    "google_clean = remove_duplicates(dataset = google.rows, \n",
    "                                 row_dict=max_reviews, \n",
    "                                 name_index=0,review_index=3)\n",
    "len(google_clean)"
   ]
  },
  {
   "attachments": {},
   "cell_type": "markdown",
   "metadata": {},
   "source": [
    "We see that 10840 - 1181 rows remain, which is what we expect. Let's update our google.rows attribute with the clean data."
   ]
  },
  {
   "cell_type": "code",
   "execution_count": 11,
   "metadata": {},
   "outputs": [],
   "source": [
    "google.rows = google_clean"
   ]
  },
  {
   "attachments": {},
   "cell_type": "markdown",
   "metadata": {},
   "source": [
    "The code cell below shows us that the apple dataset has no duplicates."
   ]
  },
  {
   "cell_type": "code",
   "execution_count": 12,
   "metadata": {},
   "outputs": [
    {
     "data": {
      "text/plain": [
       "[]"
      ]
     },
     "execution_count": 12,
     "metadata": {},
     "output_type": "execute_result"
    }
   ],
   "source": [
    "apple.detect_duplicates()"
   ]
  },
  {
   "attachments": {},
   "cell_type": "markdown",
   "metadata": {},
   "source": [
    "Depending on the task at hand, further data cleaning should be performed. For instance, one may want to remove to apps with English names. The purpose of this notebook, however, is to implement various join algorithms and demonstrate them on these datasets. Since the current amount of cleaning is sufficient for this task, we move on to implementing join algorithms.\n",
    "\n",
    "For convenience, we'll save the clean tables as separate files so we can re-read them in after altering our Table() class, without having to reclean them. Since the apple dataset contained no duplicates or missing values, we're fine to use the original version. "
   ]
  },
  {
   "cell_type": "code",
   "execution_count": 13,
   "metadata": {},
   "outputs": [],
   "source": [
    "with open('data/googleplaystore_clean.csv', mode = 'w') as file:\n",
    "    writer = csv.writer(file)\n",
    "    data = [google.header] + google.rows\n",
    "    writer.writerows(data)"
   ]
  },
  {
   "attachments": {},
   "cell_type": "markdown",
   "metadata": {},
   "source": [
    "# Nested Loop Joins\n",
    "\n",
    "Nest loop joins are, as the name suggests, a brute force way of joining. This algorithm, given table_1 and table_2 does the following:\n",
    "- First, loop through all the rows in table_1.\n",
    "- For each row in table_1, check each row in table_2 for a matching ID.\n",
    "\n",
    "This algorithm is implemented within our table class via the method \"nested_loop_join\" found below. "
   ]
  },
  {
   "cell_type": "code",
   "execution_count": 14,
   "metadata": {},
   "outputs": [],
   "source": [
    "class Table():\n",
    "    #_______________________\n",
    "    # reads in csv_filename, \n",
    "    # assigns attributes: self.header, self.rows \n",
    "    def __init__(self,csv_filename = None, encoding = 'utf8'):\n",
    "        if csv_filename == None:\n",
    "            self.header = []\n",
    "            self.rows = []\n",
    "        else:\n",
    "            #use context manager to read filename to list of lists\n",
    "            with open(csv_filename, encoding = encoding) as file:\n",
    "                data = list(csv.reader(file))\n",
    "            self.header = data[0]\n",
    "            self.rows = data[1:]\n",
    "\n",
    "\n",
    "    #_______________________________________\n",
    "    #display a range of rows from the dataset\n",
    "    def explore(self, start = 0, end = 5, show_size=False):  \n",
    "        print(self.header)\n",
    "        print('\\n')  \n",
    "        for row in self.rows[start:end]:\n",
    "            print(row)\n",
    "            print('\\n') \n",
    "\n",
    "        if show_size:\n",
    "            print('Number of rows:', len(self.rows))\n",
    "            print('Number of columns:', len(self.header))\n",
    "\n",
    "\n",
    "    #_________________________________\n",
    "    #returns list of duplicated values \n",
    "    # occuring in column (id_index)\n",
    "    def detect_duplicates(self, id_index = 0):\n",
    "        duplicates = []\n",
    "        uniques = set()\n",
    "        for row in self.rows:                           #O(N)\n",
    "            id = row[id_index]                              #O(1)\n",
    "            if id in uniques:                               #O(1) <--- Since unique is a set\n",
    "                duplicates.append(id)\n",
    "            else:\n",
    "                uniques.add(id)\n",
    "        return duplicates\n",
    "    \n",
    "\n",
    "    #_______________________\n",
    "    # helper method for joins\n",
    "    # returns a list (header) for joined table\n",
    "    def generate_joined_header(self, table, on_index_right, \n",
    "                               left_suffix, right_suffix):\n",
    "         #append left suffix to column names\n",
    "        left_table_header = self.header\n",
    "        left_column_names = [column_name + '_' + left_suffix \n",
    "                                for column_name in left_table_header]\n",
    "\n",
    "        #remove redunant column name\n",
    "        right_table_header = table.header[0:on_index_right] + table.header[on_index_right + 1:]\n",
    "\n",
    "        #append right suffix to column names\n",
    "        right_column_names = [column_name + '_' + right_suffix \n",
    "                                for column_name in right_table_header]\n",
    "        return left_column_names + right_column_names\n",
    "\n",
    "\n",
    "    #_______________________________________\n",
    "    #performs inner or left join \n",
    "    # using \"nested loop join\" algorithm \n",
    "    def nested_loop_join(self, table, kind = 'inner', \n",
    "                        on_index_left = 0, on_index_right = 0, \n",
    "                        left_suffix = '', right_suffix = ''):\n",
    "        \n",
    "        #initialize empty table for returning\n",
    "        joined_table = Table()\n",
    "        \n",
    "       \n",
    "        #use helper method to define header for new table\n",
    "        joined_table.header =  self.generate_joined_header(table, on_index_right=on_index_right,\n",
    "                                                           left_suffix=left_suffix,right_suffix=right_suffix)\n",
    "\n",
    "        #nested loop join algorithm\n",
    "        for row_1 in self.rows:                                                         #O(N)\n",
    "            no_match = True\n",
    "            for row_2 in table.rows:                                                        #O(N) <--- total O(N^2)\n",
    "                if row_1[on_index_left] == row_2[on_index_right]:\n",
    "                    no_match= False\n",
    "                    row_3 = row_1 + row_2[0:on_index_right] + row_2[on_index_right+1:]\n",
    "                    joined_table.rows.append(row_3)\n",
    "            #on left joins, keep unmatched row from self.rows\n",
    "            if (no_match) and (kind == 'left'):\n",
    "                row_3 = row_1 + ['' for _ in range(len(table.header)-1)]       \n",
    "                joined_table.rows.append(row_3)\n",
    "\n",
    "        return joined_table\n",
    "\n"
   ]
  },
  {
   "attachments": {},
   "cell_type": "markdown",
   "metadata": {},
   "source": [
    "Notice from our comments above that this algorithm has time complexity O(N^2). Let's demonstrate our newly defined method on the datasets. "
   ]
  },
  {
   "cell_type": "code",
   "execution_count": 19,
   "metadata": {},
   "outputs": [],
   "source": [
    "apple = Table('data/AppleStore.csv')\n",
    "google = Table('data/googleplaystore_clean.csv')"
   ]
  },
  {
   "cell_type": "code",
   "execution_count": 20,
   "metadata": {},
   "outputs": [
    {
     "name": "stdout",
     "output_type": "stream",
     "text": [
      "total time: 16.992596864700317\n"
     ]
    }
   ],
   "source": [
    "import time\n",
    "start = time.time()\n",
    "inner_join = apple.nested_loop_join(google, kind = 'inner', \n",
    "                                        on_index_left=1, on_index_right=0, \n",
    "                                            left_suffix='apple', right_suffix='google')\n",
    "left_join = apple.nested_loop_join(google, kind = 'left', \n",
    "                                        on_index_left=1, on_index_right=0, \n",
    "                                            left_suffix='apple', right_suffix='google')\n",
    "end = time.time()\n",
    "print(f\"total time: {end - start}\")"
   ]
  },
  {
   "attachments": {},
   "cell_type": "markdown",
   "metadata": {},
   "source": [
    "We can use the explore method to make sure everything is working properly. "
   ]
  },
  {
   "cell_type": "code",
   "execution_count": 21,
   "metadata": {},
   "outputs": [
    {
     "name": "stdout",
     "output_type": "stream",
     "text": [
      "['id_apple', 'track_name_apple', 'size_bytes_apple', 'currency_apple', 'price_apple', 'rating_count_tot_apple', 'rating_count_ver_apple', 'user_rating_apple', 'user_rating_ver_apple', 'ver_apple', 'cont_rating_apple', 'prime_genre_apple', 'sup_devices.num_apple', 'ipadSc_urls.num_apple', 'lang.num_apple', 'vpp_lic_apple', 'Category_google', 'Rating_google', 'Reviews_google', 'Size_google', 'Installs_google', 'Type_google', 'Price_google', 'Content Rating_google', 'Genres_google', 'Last Updated_google', 'Current Ver_google', 'Android Ver_google']\n",
      "\n",
      "\n",
      "['284882215', 'Facebook', '389879808', 'USD', '0.0', '2974676', '212', '3.5', '3.5', '95.0', '4+', 'Social Networking', '37', '1', '29', '1', 'SOCIAL', '4.1', '78158306', 'Varies with device', '1,000,000,000+', 'Free', '0', 'Teen', 'Social', 'August 3, 2018', 'Varies with device', 'Varies with device']\n",
      "\n",
      "\n",
      "['389801252', 'Instagram', '113954816', 'USD', '0.0', '2161558', '1289', '4.5', '4.0', '10.23', '12+', 'Photo & Video', '37', '0', '29', '1', 'SOCIAL', '4.5', '66577446', 'Varies with device', '1,000,000,000+', 'Free', '0', 'Teen', 'Social', 'July 31, 2018', 'Varies with device', 'Varies with device']\n",
      "\n",
      "\n",
      "Number of rows: 328\n",
      "Number of columns: 28\n"
     ]
    }
   ],
   "source": [
    "inner_join.explore(show_size=True, end = 2)"
   ]
  },
  {
   "cell_type": "code",
   "execution_count": 22,
   "metadata": {},
   "outputs": [
    {
     "name": "stdout",
     "output_type": "stream",
     "text": [
      "['id_apple', 'track_name_apple', 'size_bytes_apple', 'currency_apple', 'price_apple', 'rating_count_tot_apple', 'rating_count_ver_apple', 'user_rating_apple', 'user_rating_ver_apple', 'ver_apple', 'cont_rating_apple', 'prime_genre_apple', 'sup_devices.num_apple', 'ipadSc_urls.num_apple', 'lang.num_apple', 'vpp_lic_apple', 'Category_google', 'Rating_google', 'Reviews_google', 'Size_google', 'Installs_google', 'Type_google', 'Price_google', 'Content Rating_google', 'Genres_google', 'Last Updated_google', 'Current Ver_google', 'Android Ver_google']\n",
      "\n",
      "\n",
      "['284882215', 'Facebook', '389879808', 'USD', '0.0', '2974676', '212', '3.5', '3.5', '95.0', '4+', 'Social Networking', '37', '1', '29', '1', 'SOCIAL', '4.1', '78158306', 'Varies with device', '1,000,000,000+', 'Free', '0', 'Teen', 'Social', 'August 3, 2018', 'Varies with device', 'Varies with device']\n",
      "\n",
      "\n",
      "['389801252', 'Instagram', '113954816', 'USD', '0.0', '2161558', '1289', '4.5', '4.0', '10.23', '12+', 'Photo & Video', '37', '0', '29', '1', 'SOCIAL', '4.5', '66577446', 'Varies with device', '1,000,000,000+', 'Free', '0', 'Teen', 'Social', 'July 31, 2018', 'Varies with device', 'Varies with device']\n",
      "\n",
      "\n",
      "Number of rows: 7197\n",
      "Number of columns: 28\n"
     ]
    }
   ],
   "source": [
    "left_join.explore(show_size=True, end = 2)"
   ]
  },
  {
   "attachments": {},
   "cell_type": "markdown",
   "metadata": {},
   "source": [
    "Its clear the new method works properly. Now we'll implement a hash join, which takes more memory but is significantly faster. "
   ]
  },
  {
   "attachments": {},
   "cell_type": "markdown",
   "metadata": {},
   "source": [
    "# Hash Joins"
   ]
  },
  {
   "attachments": {},
   "cell_type": "markdown",
   "metadata": {},
   "source": [
    "The basic idea of a hash join is to store all the information of one table in a __hash table__. Then, the join can be completed by looping through the rows of the second table, and probing the __hash table__ to determine which rows to join. We implement this algoirthm by adding a \"hash_join\" method to our *Table() class* as shown in the following code cell."
   ]
  },
  {
   "cell_type": "code",
   "execution_count": 23,
   "metadata": {},
   "outputs": [],
   "source": [
    "class Table():\n",
    "    #_______________________\n",
    "    # reads in csv_filename, \n",
    "    # assigns attributes: self.header, self.rows \n",
    "    def __init__(self,csv_filename = None, encoding = 'utf8'):\n",
    "        if csv_filename == None:\n",
    "            self.header = []\n",
    "            self.rows = []\n",
    "        else:\n",
    "            #use context manager to read filename to list of lists\n",
    "            with open(csv_filename, encoding = encoding) as file:\n",
    "                data = list(csv.reader(file))\n",
    "            self.header = data[0]\n",
    "            self.rows = data[1:]\n",
    "\n",
    "\n",
    "    #_______________________________________\n",
    "    #display a range of rows from the dataset\n",
    "    def explore(self, start = 0, end = 5, show_size=False):  \n",
    "        print(self.header)\n",
    "        print('\\n')  \n",
    "        for row in self.rows[start:end]:\n",
    "            print(row)\n",
    "            print('\\n') \n",
    "\n",
    "        if show_size:\n",
    "            print('Number of rows:', len(self.rows))\n",
    "            print('Number of columns:', len(self.header))\n",
    "\n",
    "\n",
    "    #_________________________________\n",
    "    #returns list of duplicated values \n",
    "    # occuring in column (id_index)\n",
    "    def detect_duplicates(self, id_index = 0):\n",
    "        duplicates = []\n",
    "        uniques = set()\n",
    "        for row in self.rows:                           #O(N)\n",
    "            id = row[id_index]                              #O(1)\n",
    "            if id in uniques:                               #O(1) <--- Since unique is a set\n",
    "                duplicates.append(id)\n",
    "            else:\n",
    "                uniques.add(id)\n",
    "        return duplicates\n",
    "    \n",
    "\n",
    "    #_______________________\n",
    "    # helper method for joins\n",
    "    # returns a list (header) for joined table\n",
    "    def generate_joined_header(self, table, on_index_right, \n",
    "                               left_suffix, right_suffix):\n",
    "         #append left suffix to column names\n",
    "        left_table_header = self.header\n",
    "        left_column_names = [column_name + '_' + left_suffix \n",
    "                                for column_name in left_table_header]\n",
    "\n",
    "        #remove redunant column name\n",
    "        right_table_header = table.header[0:on_index_right] + table.header[on_index_right + 1:]\n",
    "\n",
    "        #append right suffix to column names\n",
    "        right_column_names = [column_name + '_' + right_suffix \n",
    "                                for column_name in right_table_header]\n",
    "        return left_column_names + right_column_names\n",
    "\n",
    "\n",
    "    #_______________________________________\n",
    "    #performs inner or left join \n",
    "    # using \"nested loop join\" algorithm \n",
    "    def nested_loop_join(self, table, kind = 'inner', \n",
    "                        on_index_left = 0, on_index_right = 0, \n",
    "                        left_suffix = '', right_suffix = ''):\n",
    "        \n",
    "        #initialize empty table for returning\n",
    "        joined_table = Table()\n",
    "        \n",
    "       \n",
    "        #use helper method to define header for new table\n",
    "        joined_table.header =  self.generate_joined_header(table, on_index_right=on_index_right,\n",
    "                                                           left_suffix=left_suffix,right_suffix=right_suffix)\n",
    "\n",
    "        #nested loop join algorithm\n",
    "        for row_1 in self.rows:                                                         #O(N)\n",
    "            no_match = True\n",
    "            for row_2 in table.rows:                                                        #O(N) <--- total O(N^2)\n",
    "                if row_1[on_index_left] == row_2[on_index_right]:\n",
    "                    no_match= False\n",
    "                    row_3 = row_1 + row_2[0:on_index_right] + row_2[on_index_right+1:]\n",
    "                    joined_table.rows.append(row_3)\n",
    "            #on left joins, keep unmatched row from self.rows\n",
    "            if (no_match) and (kind == 'left'):\n",
    "                row_3 = row_1 + ['' for _ in range(len(table.header)-1)]       \n",
    "                joined_table.rows.append(row_3)\n",
    "\n",
    "        return joined_table\n",
    "    \n",
    "    #_______________________________________\n",
    "    #performs inner or left join \n",
    "    # using \"Hash Join\" algorithm \n",
    "    def hash_join(self, table, kind = 'inner', \n",
    "                        on_index_left = 0, on_index_right = 0, \n",
    "                        left_suffix = '', right_suffix = ''):\n",
    "        \n",
    "        #initialize empty table for returning\n",
    "        joined_table = Table()\n",
    "        \n",
    "        #use helper method to define header for new table\n",
    "        joined_table.header =  self.generate_joined_header(table, on_index_right=on_index_right,\n",
    "                                                           left_suffix=left_suffix,right_suffix=right_suffix)\n",
    "        hash_table = {}\n",
    "        # build hash table on right Table()\n",
    "        for row in table.rows:                                      #O(N)\n",
    "            hash_table[row[on_index_right]] = row\n",
    "        # probe each row on left Table()\n",
    "        for row_1 in self.rows:                                     #O(N)     \n",
    "            if row_1[on_index_left] in hash_table:                  #O(1) \n",
    "                    row_2 = hash_table[row_1[on_index_left]]\n",
    "                    joined_row = row_1 + row_2[0:on_index_right] + row_2[on_index_right+1:]\n",
    "                    joined_table.rows.append(joined_row)\n",
    "            elif kind == 'left':\n",
    "                joined_row = row_1 + ['' for _ in range(len(table.header)-1)]       \n",
    "                joined_table.rows.append(joined_row)\n",
    "\n",
    "        return joined_table"
   ]
  },
  {
   "attachments": {},
   "cell_type": "markdown",
   "metadata": {},
   "source": [
    "Let's test this newly defined method on the datasets."
   ]
  },
  {
   "cell_type": "code",
   "execution_count": 24,
   "metadata": {},
   "outputs": [
    {
     "name": "stdout",
     "output_type": "stream",
     "text": [
      "total time: 0.07600593566894531\n"
     ]
    }
   ],
   "source": [
    "apple = Table('data/AppleStore.csv')\n",
    "google = Table('data/googleplaystore_clean.csv')\n",
    "start = time.time()\n",
    "inner_join = apple.hash_join(google, kind = 'inner', \n",
    "                                        on_index_left=1, on_index_right=0, \n",
    "                                            left_suffix='apple', right_suffix='google')\n",
    "left_join = apple.hash_join(google, kind = 'left', \n",
    "                                        on_index_left=1, on_index_right=0, \n",
    "                                            left_suffix='apple', right_suffix='google')\n",
    "end = time.time()\n",
    "print(f\"total time: {end - start}\")"
   ]
  },
  {
   "attachments": {},
   "cell_type": "markdown",
   "metadata": {},
   "source": [
    "We see that the hash join is much faster than the nested loop join. Let's explore the new tables to verify that everything worked properly. "
   ]
  },
  {
   "cell_type": "code",
   "execution_count": 25,
   "metadata": {},
   "outputs": [
    {
     "name": "stdout",
     "output_type": "stream",
     "text": [
      "['id_apple', 'track_name_apple', 'size_bytes_apple', 'currency_apple', 'price_apple', 'rating_count_tot_apple', 'rating_count_ver_apple', 'user_rating_apple', 'user_rating_ver_apple', 'ver_apple', 'cont_rating_apple', 'prime_genre_apple', 'sup_devices.num_apple', 'ipadSc_urls.num_apple', 'lang.num_apple', 'vpp_lic_apple', 'Category_google', 'Rating_google', 'Reviews_google', 'Size_google', 'Installs_google', 'Type_google', 'Price_google', 'Content Rating_google', 'Genres_google', 'Last Updated_google', 'Current Ver_google', 'Android Ver_google']\n",
      "\n",
      "\n",
      "['284882215', 'Facebook', '389879808', 'USD', '0.0', '2974676', '212', '3.5', '3.5', '95.0', '4+', 'Social Networking', '37', '1', '29', '1', 'SOCIAL', '4.1', '78158306', 'Varies with device', '1,000,000,000+', 'Free', '0', 'Teen', 'Social', 'August 3, 2018', 'Varies with device', 'Varies with device']\n",
      "\n",
      "\n",
      "['389801252', 'Instagram', '113954816', 'USD', '0.0', '2161558', '1289', '4.5', '4.0', '10.23', '12+', 'Photo & Video', '37', '0', '29', '1', 'SOCIAL', '4.5', '66577446', 'Varies with device', '1,000,000,000+', 'Free', '0', 'Teen', 'Social', 'July 31, 2018', 'Varies with device', 'Varies with device']\n",
      "\n",
      "\n",
      "Number of rows: 328\n",
      "Number of columns: 28\n"
     ]
    }
   ],
   "source": [
    "inner_join.explore(show_size=True, end = 2)"
   ]
  },
  {
   "cell_type": "code",
   "execution_count": 26,
   "metadata": {},
   "outputs": [
    {
     "name": "stdout",
     "output_type": "stream",
     "text": [
      "['id_apple', 'track_name_apple', 'size_bytes_apple', 'currency_apple', 'price_apple', 'rating_count_tot_apple', 'rating_count_ver_apple', 'user_rating_apple', 'user_rating_ver_apple', 'ver_apple', 'cont_rating_apple', 'prime_genre_apple', 'sup_devices.num_apple', 'ipadSc_urls.num_apple', 'lang.num_apple', 'vpp_lic_apple', 'Category_google', 'Rating_google', 'Reviews_google', 'Size_google', 'Installs_google', 'Type_google', 'Price_google', 'Content Rating_google', 'Genres_google', 'Last Updated_google', 'Current Ver_google', 'Android Ver_google']\n",
      "\n",
      "\n",
      "['284882215', 'Facebook', '389879808', 'USD', '0.0', '2974676', '212', '3.5', '3.5', '95.0', '4+', 'Social Networking', '37', '1', '29', '1', 'SOCIAL', '4.1', '78158306', 'Varies with device', '1,000,000,000+', 'Free', '0', 'Teen', 'Social', 'August 3, 2018', 'Varies with device', 'Varies with device']\n",
      "\n",
      "\n",
      "['389801252', 'Instagram', '113954816', 'USD', '0.0', '2161558', '1289', '4.5', '4.0', '10.23', '12+', 'Photo & Video', '37', '0', '29', '1', 'SOCIAL', '4.5', '66577446', 'Varies with device', '1,000,000,000+', 'Free', '0', 'Teen', 'Social', 'July 31, 2018', 'Varies with device', 'Varies with device']\n",
      "\n",
      "\n",
      "Number of rows: 7197\n",
      "Number of columns: 28\n"
     ]
    }
   ],
   "source": [
    "left_join.explore(show_size=True, end = 2)"
   ]
  },
  {
   "attachments": {},
   "cell_type": "markdown",
   "metadata": {},
   "source": [
    "We observe the same resulting tables as before, but in only a fraction of the time!"
   ]
  },
  {
   "attachments": {},
   "cell_type": "markdown",
   "metadata": {},
   "source": [
    "# Merge Joins"
   ]
  },
  {
   "attachments": {},
   "cell_type": "markdown",
   "metadata": {},
   "source": [
    "The merge join algorithm avoids nested for loops by sorting the tables first. With both tables sorted, the algorithm can stop looking for a match for __row_1__ from the __left table__ as soon as it \"sees\" an index from the __right table__ which is __bigger__ than the index on __row_1__. This reduces the time complexity of the nested loop join significantly. However, it requires that the tables be sorted first, which requires O(N log N) time. \n",
    "\n",
    "Since this algorithm involves sorting an index, we'll need to convert each column corresponding to app names into integers. This will amount to adding a column to the end of each dataset. Please note that our code for merge joining below assumes an integer index in the final column. \n",
    "\n",
    "We implement this algorthm into our Table() class by adding the following \"merge_join()\" method to the bottom of our table class."
   ]
  },
  {
   "cell_type": "code",
   "execution_count": 43,
   "metadata": {},
   "outputs": [],
   "source": [
    "class Table():\n",
    "    #_______________________\n",
    "    # reads in csv_filename, \n",
    "    # assigns attributes: self.header, self.rows \n",
    "    def __init__(self,csv_filename = None, encoding = 'utf8'):\n",
    "        if csv_filename == None:\n",
    "            self.header = []\n",
    "            self.rows = []\n",
    "        else:\n",
    "            #use context manager to read filename to list of lists\n",
    "            with open(csv_filename, encoding = encoding) as file:\n",
    "                data = list(csv.reader(file))\n",
    "            self.header = data[0]\n",
    "            self.rows = data[1:]\n",
    "\n",
    "\n",
    "    #_______________________________________\n",
    "    #display a range of rows from the dataset\n",
    "    def explore(self, start = 0, end = 5, show_size=False):  \n",
    "        print(self.header)\n",
    "        print('\\n')  \n",
    "        for row in self.rows[start:end]:\n",
    "            print(row)\n",
    "            print('\\n') \n",
    "\n",
    "        if show_size:\n",
    "            print('Number of rows:', len(self.rows))\n",
    "            print('Number of columns:', len(self.header))\n",
    "\n",
    "\n",
    "    #_________________________________\n",
    "    #returns list of duplicated values \n",
    "    # occuring in column (id_index)\n",
    "    def detect_duplicates(self, id_index = 0):\n",
    "        duplicates = []\n",
    "        uniques = set()\n",
    "        for row in self.rows:                           #O(N)\n",
    "            id = row[id_index]                              #O(1)\n",
    "            if id in uniques:                               #O(1) <--- Since unique is a set\n",
    "                duplicates.append(id)\n",
    "            else:\n",
    "                uniques.add(id)\n",
    "        return duplicates\n",
    "    \n",
    "\n",
    "    #_______________________\n",
    "    # helper method for joins\n",
    "    # returns a list (header) for joined table\n",
    "    def generate_joined_header(self, table, on_index_right, \n",
    "                               left_suffix, right_suffix):\n",
    "         #append left suffix to column names\n",
    "        left_table_header = self.header\n",
    "        left_column_names = [column_name + '_' + left_suffix \n",
    "                                for column_name in left_table_header]\n",
    "\n",
    "        #remove redunant column name\n",
    "        right_table_header = table.header[0:on_index_right] + table.header[on_index_right + 1:]\n",
    "\n",
    "        #append right suffix to column names\n",
    "        right_column_names = [column_name + '_' + right_suffix \n",
    "                                for column_name in right_table_header]\n",
    "        return left_column_names + right_column_names\n",
    "    \n",
    "\n",
    "    #_______________________________________\n",
    "    #performs inner or left join \n",
    "    # using \"nested loop join\" algorithm \n",
    "    def nested_loop_join(self, table, kind = 'inner', \n",
    "                        on_index_left = 0, on_index_right = 0, \n",
    "                        left_suffix = '', right_suffix = ''):\n",
    "        \n",
    "        #initialize empty table for returning\n",
    "        joined_table = Table()\n",
    "        \n",
    "       \n",
    "        #use helper method to define header for new table\n",
    "        joined_table.header =  self.generate_joined_header(table, on_index_right=on_index_right,\n",
    "                                                           left_suffix=left_suffix,right_suffix=right_suffix)\n",
    "\n",
    "        #nested loop join algorithm\n",
    "        for row_1 in self.rows:                                                         #O(N)\n",
    "            no_match = True\n",
    "            for row_2 in table.rows:                                                        #O(N) <--- total O(N^2)\n",
    "                if row_1[on_index_left] == row_2[on_index_right]:\n",
    "                    no_match= False\n",
    "                    row_3 = row_1 + row_2[0:on_index_right] + row_2[on_index_right+1:]\n",
    "                    joined_table.rows.append(row_3)\n",
    "            #on left joins, keep unmatched row from self.rows\n",
    "            if (no_match) and (kind == 'left'):\n",
    "                row_3 = row_1 + ['' for _ in range(len(table.header)-1)]       \n",
    "                joined_table.rows.append(row_3)\n",
    "\n",
    "        return joined_table\n",
    "    \n",
    "    #_______________________________________\n",
    "    #performs inner or left join \n",
    "    # using \"Hash Join\" algorithm \n",
    "    def hash_join(self, table, kind = 'inner', \n",
    "                        on_index_left = 0, on_index_right = 0, \n",
    "                        left_suffix = '', right_suffix = ''):\n",
    "        \n",
    "        #initialize empty table for returning\n",
    "        joined_table = Table()\n",
    "        \n",
    "       \n",
    "        #use helper method to define header for new table\n",
    "        joined_table.header =  self.generate_joined_header(table, on_index_right=on_index_right,\n",
    "                                                           left_suffix=left_suffix,right_suffix=right_suffix)\n",
    "        hash_table = {}\n",
    "        # build hash table on right Table()\n",
    "        for row in table.rows:                                      #O(N)\n",
    "            hash_table[row[on_index_right]] = row\n",
    "        # probe each row on left Table() for \n",
    "        # matches in hash_table\n",
    "        for row_1 in self.rows:                                     #O(N)     \n",
    "            if row_1[on_index_left] in hash_table:                  #O(1) \n",
    "                    no_match= False\n",
    "                    row_2 = hash_table[row_1[on_index_left]]\n",
    "                    joined_row = row_1 + row_2[0:on_index_right] + row_2[on_index_right+1:]\n",
    "                    joined_table.rows.append(joined_row)\n",
    "            elif kind == 'left':\n",
    "                joined_row = row_1 + ['' for _ in range(len(table.header)-1)]       \n",
    "                joined_table.rows.append(joined_row)\n",
    "\n",
    "        return joined_table\n",
    "    \n",
    "    #_______________________________________\n",
    "    #performs inner or left join \n",
    "    # using \"Merge Join\" algorithm \n",
    "    def merge_join(self, table, kind = 'inner', \n",
    "                        on_index_left = 0, on_index_right = 0, \n",
    "                        left_suffix = '', right_suffix = ''):\n",
    "    \n",
    "        #initialize empty table for returning\n",
    "        joined_table = Table()\n",
    "        \n",
    "       \n",
    "        #use helper method to define header for new table\n",
    "        joined_table.header =  self.generate_joined_header(table, on_index_right=on_index_right,\n",
    "                                                           left_suffix=left_suffix,right_suffix=right_suffix)\n",
    "        \n",
    "        # helper fuction for table sorting\n",
    "        def row_index(row):\n",
    "            return row[-1]\n",
    "        \n",
    "        #sort each table\n",
    "        self.rows = sorted(self.rows, key = row_index)      #O(N log N)\n",
    "        table.rows = sorted(table.rows, key = row_index)    #O(N log N) <-- assuming tables ~ equal size\n",
    "\n",
    "        j = 0\n",
    "        #merge join algorithm\n",
    "        for row_1 in self.rows:                         #O(N)\n",
    "            no_match = True   \n",
    "            row_1_index = row_1[-1]\n",
    "            index_difference = row_1_index\n",
    "            #dont iterate row_1 until row_2's index is bigger\n",
    "            while index_difference >= 0:                    \n",
    "                row_2 = table.rows[j]\n",
    "                index_difference = row_1[-1] - row_2[-1]\n",
    "                #if a match is found, join rows\n",
    "                if (index_difference == 0):\n",
    "                    no_match = False\n",
    "                    joined_row = row_1 + row_2[0:on_index_right] + row_2[on_index_right+1:]\n",
    "                    joined_table.rows.append(joined_row)\n",
    "                    if j == (len(table.rows) - 1):\n",
    "                        index_difference = -10\n",
    "                    else:\n",
    "                        j = j + 1\n",
    "                # if row_2's index is too small, look further down\n",
    "                elif index_difference > 0:\n",
    "\n",
    "                    if j == (len(table.rows) - 1): #<---- if j index is at a maximum, iterate row_1\n",
    "                        index_difference = -10\n",
    "                    else:\n",
    "                        j = j + 1\n",
    "\n",
    "                \n",
    "            #keep unmatched rows for left joins   \n",
    "            if (no_match) and (kind == 'left'):\n",
    "                joined_row = row_1 + ['' for _ in range(len(table.header)-1)]       \n",
    "                joined_table.rows.append(joined_row)\n",
    "  \n",
    "        return joined_table"
   ]
  },
  {
   "attachments": {},
   "cell_type": "markdown",
   "metadata": {},
   "source": [
    "In the above code, in order to sort the tables and match the rows, we assumed that the last entry of each row is a sorted index. Let's create new instances of apple and google, and add a name_id column to each of them. "
   ]
  },
  {
   "cell_type": "code",
   "execution_count": 28,
   "metadata": {},
   "outputs": [],
   "source": [
    "apple = Table('data/AppleStore.csv')\n",
    "google = Table('data/googleplaystore_clean.csv')\n",
    "\n",
    "apple.header.append(\"name_id\")\n",
    "apple_apps = {}\n",
    "for i,row in enumerate(apple.rows):\n",
    "    row.append(2*i)                             #apple app keys are even \n",
    "    apple_apps[row[1]] = row\n",
    "\n",
    "google.header.append(\"name_id\")\n",
    "for i,row in enumerate(google.rows):\n",
    "    if row[0] in apple_apps:\n",
    "        row.append(apple_apps[row[0]][-1])      #matching google apps have matching keys\n",
    "    else:\n",
    "        row.append(2*i + 1)                     #google apps with no match have odd keys"
   ]
  },
  {
   "attachments": {},
   "cell_type": "markdown",
   "metadata": {},
   "source": [
    "Now, we can test out our newly defined method. "
   ]
  },
  {
   "cell_type": "code",
   "execution_count": 29,
   "metadata": {},
   "outputs": [
    {
     "name": "stdout",
     "output_type": "stream",
     "text": [
      "Total time: 0.026682138442993164\n"
     ]
    }
   ],
   "source": [
    "start = time.time()\n",
    "inner_join = apple.merge_join(google, kind = 'inner', \n",
    "                                        on_index_left=1, on_index_right=0, \n",
    "                                            left_suffix='apple', right_suffix='google')\n",
    "left_join = apple.merge_join(google, kind = 'left', \n",
    "                                        on_index_left=1, on_index_right=0, \n",
    "                                            left_suffix='apple', right_suffix='google')\n",
    "end = time.time()\n",
    "print(f\"Total time: {end - start}\")"
   ]
  },
  {
   "cell_type": "code",
   "execution_count": 30,
   "metadata": {},
   "outputs": [
    {
     "name": "stdout",
     "output_type": "stream",
     "text": [
      "['id_apple', 'track_name_apple', 'size_bytes_apple', 'currency_apple', 'price_apple', 'rating_count_tot_apple', 'rating_count_ver_apple', 'user_rating_apple', 'user_rating_ver_apple', 'ver_apple', 'cont_rating_apple', 'prime_genre_apple', 'sup_devices.num_apple', 'ipadSc_urls.num_apple', 'lang.num_apple', 'vpp_lic_apple', 'name_id_apple', 'Category_google', 'Rating_google', 'Reviews_google', 'Size_google', 'Installs_google', 'Type_google', 'Price_google', 'Content Rating_google', 'Genres_google', 'Last Updated_google', 'Current Ver_google', 'Android Ver_google', 'name_id_google']\n",
      "\n",
      "\n",
      "['284882215', 'Facebook', '389879808', 'USD', '0.0', '2974676', '212', '3.5', '3.5', '95.0', '4+', 'Social Networking', '37', '1', '29', '1', 0, 'SOCIAL', '4.1', '78158306', 'Varies with device', '1,000,000,000+', 'Free', '0', 'Teen', 'Social', 'August 3, 2018', 'Varies with device', 'Varies with device', 0]\n",
      "\n",
      "\n",
      "['389801252', 'Instagram', '113954816', 'USD', '0.0', '2161558', '1289', '4.5', '4.0', '10.23', '12+', 'Photo & Video', '37', '0', '29', '1', 2, 'SOCIAL', '4.5', '66577446', 'Varies with device', '1,000,000,000+', 'Free', '0', 'Teen', 'Social', 'July 31, 2018', 'Varies with device', 'Varies with device', 2]\n",
      "\n",
      "\n",
      "Number of rows: 328\n",
      "Number of columns: 30\n",
      "\n",
      "\n",
      "['id_apple', 'track_name_apple', 'size_bytes_apple', 'currency_apple', 'price_apple', 'rating_count_tot_apple', 'rating_count_ver_apple', 'user_rating_apple', 'user_rating_ver_apple', 'ver_apple', 'cont_rating_apple', 'prime_genre_apple', 'sup_devices.num_apple', 'ipadSc_urls.num_apple', 'lang.num_apple', 'vpp_lic_apple', 'name_id_apple', 'Category_google', 'Rating_google', 'Reviews_google', 'Size_google', 'Installs_google', 'Type_google', 'Price_google', 'Content Rating_google', 'Genres_google', 'Last Updated_google', 'Current Ver_google', 'Android Ver_google', 'name_id_google']\n",
      "\n",
      "\n",
      "['284882215', 'Facebook', '389879808', 'USD', '0.0', '2974676', '212', '3.5', '3.5', '95.0', '4+', 'Social Networking', '37', '1', '29', '1', 0, 'SOCIAL', '4.1', '78158306', 'Varies with device', '1,000,000,000+', 'Free', '0', 'Teen', 'Social', 'August 3, 2018', 'Varies with device', 'Varies with device', 0]\n",
      "\n",
      "\n",
      "['389801252', 'Instagram', '113954816', 'USD', '0.0', '2161558', '1289', '4.5', '4.0', '10.23', '12+', 'Photo & Video', '37', '0', '29', '1', 2, 'SOCIAL', '4.5', '66577446', 'Varies with device', '1,000,000,000+', 'Free', '0', 'Teen', 'Social', 'July 31, 2018', 'Varies with device', 'Varies with device', 2]\n",
      "\n",
      "\n",
      "Number of rows: 7197\n",
      "Number of columns: 30\n"
     ]
    }
   ],
   "source": [
    "inner_join.explore(show_size=True, end = 2)\n",
    "print('\\n')\n",
    "left_join.explore(show_size=True, end = 2)"
   ]
  },
  {
   "attachments": {},
   "cell_type": "markdown",
   "metadata": {},
   "source": [
    "The merge join seems to be working. To conclude the notebook, we'll compare all three algorithms with a time-complexity analysis."
   ]
  },
  {
   "attachments": {},
   "cell_type": "markdown",
   "metadata": {},
   "source": [
    "# Time Complexity Comparison\n",
    "\n",
    "Its theoretically clear from the above code that \n",
    "- Nested Loop Join takes O(N^2) time\n",
    "- Hash Join takes O(N) time\n",
    "- Merge Join takes O(N log N) time\n",
    "\n",
    "We can setup an experiment to verify these facts. Before doing so, we'll save the files with id's for later use. "
   ]
  },
  {
   "cell_type": "code",
   "execution_count": 31,
   "metadata": {},
   "outputs": [],
   "source": [
    "with open('data/googleplaystore_clean_with_id.csv', mode = 'w') as file:\n",
    "    writer = csv.writer(file)\n",
    "    data = [google.header] + google.rows\n",
    "    writer.writerows(data)\n",
    "\n",
    "with open('data/AppleStoreWithId.csv', mode = 'w') as file:\n",
    "    writer = csv.writer(file)\n",
    "    data = [apple.header] + apple.rows\n",
    "    writer.writerows(data)"
   ]
  },
  {
   "attachments": {},
   "cell_type": "markdown",
   "metadata": {},
   "source": [
    "Now, for different values of N, we'll sample N rows from each dataset, and keep track of how long each type of join takes."
   ]
  },
  {
   "cell_type": "code",
   "execution_count": 55,
   "metadata": {},
   "outputs": [],
   "source": [
    "import random\n",
    "\n",
    "N = 500                    #number of rows in our dataset\n",
    "stepsize = 1                #time resolution \n",
    "                    \n",
    "\n",
    "time_complexity_merge = []        #empty lists for plotting data\n",
    "time_complexity_hash = []\n",
    "time_complexity_nested = []\n",
    "data_size = []\n",
    "\n",
    "while N > 0:\n",
    "    apple = Table('data/AppleStoreWithId.csv')\n",
    "    google = Table('data/googleplaystore_clean_with_id.csv')\n",
    "    \n",
    "    #random subset of datasets\n",
    "    g_sample = random.sample(google.rows, k = N) \n",
    "    a_sample =  random.sample(apple.rows, k = N) \n",
    "    for i in range(N):\n",
    "        g_sample[i][-1] = int(g_sample[i][-1])\n",
    "        a_sample[i][-1] = int(a_sample[i][-1])\n",
    "\n",
    "    google.rows = g_sample\n",
    "    apple.rows = a_sample\n",
    "                \n",
    "    \n",
    "    total_time_merge = 0    \n",
    "    start = time.time()\n",
    "    inner_join = apple.merge_join(google, kind = 'inner', \n",
    "                                        on_index_left=1, on_index_right=0, \n",
    "                                            left_suffix='apple', right_suffix='google')\n",
    "    end = time.time()\n",
    "    total_time_merge = (end - start)  \n",
    "    time_complexity_merge.append(total_time_merge) \n",
    "\n",
    "\n",
    "\n",
    "    total_time_hash = 0\n",
    "    start = time.time()\n",
    "    inner_join = apple.hash_join(google, kind = 'inner', \n",
    "                                        on_index_left=1, on_index_right=0, \n",
    "                                            left_suffix='apple', right_suffix='google')\n",
    "    end = time.time()\n",
    "    total_time_hash = (end - start)     \n",
    "    time_complexity_hash.append(total_time_hash)   \n",
    "    \n",
    "\n",
    "    total_time_nested = 0 \n",
    "    start = time.time()\n",
    "    inner_join = apple.nested_loop_join(google, kind = 'inner', \n",
    "                                        on_index_left=1, on_index_right=0, \n",
    "                                            left_suffix='apple', right_suffix='google')\n",
    "    end = time.time()\n",
    "    total_time_nested = (end - start)     \n",
    "    time_complexity_nested.append(total_time_nested)  \n",
    "\n",
    "\n",
    "    data_size.append(N)\n",
    "    N = N - stepsize        #reduce N"
   ]
  },
  {
   "attachments": {},
   "cell_type": "markdown",
   "metadata": {},
   "source": [
    "Let's plot the result."
   ]
  },
  {
   "cell_type": "code",
   "execution_count": 193,
   "metadata": {},
   "outputs": [
    {
     "data": {
      "text/plain": [
       "Text(-25, 0.00987, 'seconds')"
      ]
     },
     "execution_count": 193,
     "metadata": {},
     "output_type": "execute_result"
    },
    {
     "data": {
      "image/png": "[encoded data removed]",
      "text/plain": [
       "<Figure size 864x576 with 1 Axes>"
      ]
     },
     "metadata": {},
     "output_type": "display_data"
    }
   ],
   "source": [
    "import matplotlib.pyplot as plt\n",
    "plt.style.use('fivethirtyeight')\n",
    "#___________________________________________________________\n",
    "#Initial Plot\n",
    "fig,ax = plt.subplots(figsize = (12,8))\n",
    "ax.plot(data_size,time_complexity_merge, linewidth = 2, alpha = .8, color = 'dodgerblue', label = \"supress\")\n",
    "ax.plot(data_size,time_complexity_hash, linewidth = 2, color = 'darkviolet')\n",
    "ax.plot(data_size,time_complexity_nested, linewidth = 2, color = 'mediumseagreen')\n",
    "#____________________________________________________________\n",
    "#Format grid, ticks, etc\n",
    "ax.set_xticks([50,150,250,350, 450])\n",
    "ax.set_xticklabels(['50','150','250','350','450 apps / table'])\n",
    "ax.set_yticks([0,0.002,.004,.0060, .008,0.01])\n",
    "ax.set_yticklabels(['0.000','0.002','0.004', '0.006','0.008', '0.010'])\n",
    "ax.set_xlim(right = 500)\n",
    "ax.tick_params(colors = 'grey', which = 'both')\n",
    "ygridlines = ax.get_ygridlines()\n",
    "gridline_of_interest = ygridlines[-1]\n",
    "gridline_of_interest.set_visible(False)\n",
    "#___________________________________________________________\n",
    "#create title,subtitle,signature bar\n",
    "ax.text(-55,.0120, 'Hash Join Most Efficient for Equi Join Conditions', weight = 'bold', size = 26, alpha = .75)\n",
    "ax.text(-55,.0114, 'Time complexity comparison for Nested Loop Join (         ), Merge Join (       ),', size = 19, alpha = .85)\n",
    "ax.text(-55,.0109, 'and Hash Join (          ) on AppStore & GooglePlayStore Datasets', size = 19, alpha = .85)\n",
    "ax.text(x = -55, y = -.002,\n",
    "    s = '   J. Wilson Peoples                                                                                                                     Source: Kaggle Laptop Prices Dataset ',\n",
    "    fontsize = 12, color = '#f0f0f0', backgroundcolor = 'grey')\n",
    "#_____________________________________________________________\n",
    "#on figure annotations\n",
    "ax.text(x = 312-30, y = .0114, s ='green', color = 'mediumseagreen', size = 19)\n",
    "ax.text(x = 443-30, y = .0114, s ='blue', color = 'dodgerblue', size = 19)\n",
    "ax.text(x = 74-30, y = .0109, s ='purple', color = 'darkviolet', size = 19)\n",
    "\n",
    "ax.text(x=-55, y = .0105, color = 'grey', alpha = .8,\n",
    "        s = '_________________________________________________________________________________________________________________')\n",
    "\n",
    "ax.text(x = -25, y = .00987, s ='seconds', color = 'grey', size = 14.2, alpha = .95)\n"
   ]
  },
  {
   "attachments": {},
   "cell_type": "markdown",
   "metadata": {},
   "source": [
    "We can see that theoretical complexities line up with our observations. Namely, \n",
    "- Nested Loop Join has O(N^2) complexity\n",
    "- Merge Join has O(N log N) complexity \n",
    "- Hash Join has O(N) complexity "
   ]
  },
  {
   "attachments": {},
   "cell_type": "markdown",
   "metadata": {},
   "source": [
    "# Conclusion\n",
    "In conclusion, we carefully cleaned two datasets containing mobile apps, and then studied various join algorithms on them. We found that, for equi-join conditions (which is the type of join considered in this notebook), the Hash Join algorithm performs best. In fact, [SQL automatically uses Hash Join for any join with only equi-join conditions!](https://dev.mysql.com/doc/refman/8.0/en/hash-joins.html#:~:text=Beginning%20with%20MySQL%208.0.18%2C%20MySQL%20employs%20a%20hash,SELECT%20%2A%20FROM%20t1%20JOIN%20t2%20ON%20t1.c1%3Dt2.c1%3B)\n",
    "\n",
    "Throughout the process, we built a *Table() class* which implements each algorithm above and supports both left and . Its important to note that for different join conditions, the other algorithms stated are much more competetive. \n",
    "\n"
   ]
  }
 ],
 "metadata": {
  "kernelspec": {
   "display_name": "Python 3",
   "language": "python",
   "name": "python3"
  },
  "language_info": {
   "codemirror_mode": {
    "name": "ipython",
    "version": 3
   },
   "file_extension": ".py",
   "mimetype": "text/x-python",
   "name": "python",
   "nbconvert_exporter": "python",
   "pygments_lexer": "ipython3",
   "version": "3.8.10"
  },
  "orig_nbformat": 4
 },
 "nbformat": 4,
 "nbformat_minor": 2
}
