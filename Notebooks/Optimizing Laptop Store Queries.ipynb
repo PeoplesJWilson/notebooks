{
 "cells": [
  {
   "attachments": {},
   "cell_type": "markdown",
   "metadata": {},
   "source": [
    "# Building Fast Queries on a CSV\n",
    "\n",
    "In this notebook, we'll be looking at inventory data for a laptop store. Throughout the notebook, we'll be building an \"Inventory()\" class to efficiently query our dataset. Specific queries which we will implement will allow the store employees to:\n",
    "\n",
    "- efficiently look up laptop data given its ID\n",
    "- ensure there is always a way for customers to spend all of their promotion credit\n",
    "- assist customers in finding a laptop within their budget\n",
    "\n",
    "After introducing a few different algorithms for solving each of the problems above, we'll also perform a time/space - complexity analysis for each algorithm. Using this information, we can determine, for each query above, which algorithm is most optimal for this laptop store.\n",
    "\n",
    "# Summary\n",
    "\n",
    "After analyzing a few different algorithms, we concluded that:\n",
    "\n",
    "- ID lookups could be performed efficiently by storing storing a dictionary, mapping the laptop ID to its data. While this costs memory, it allows ID lookups to be performed in O(1) time (since dictionaries in python are implemented using hash-tables). While we pay the cost for this by storing an additional sorted memory, we still conclude to use this approach since storing an extra inventory is not too big of an issue, and the alternative is each lookup taking O(N) time.\n",
    "\n",
    "- To ensure customers could use all of their promotion points, we found an algorithm which queries the dataset to see if either \n",
    "    - a single laptop can be purchased using all promotion dollars\n",
    "    - two laptops can be purchased using all promotion dollars\n",
    "    \n",
    "    We decided to store prices as a set. This costs some memory, but allows us to check the first bullet point above in O(1) time, and the second in O(N) time. We decide on this method since the alternative costs quadratic time! \n",
    "\n",
    "\n",
    "- Finally, we found a laptop closest to, but within a customer's price range by storing an extra version of the inventory, sorted by price. This allows us to implement a binary search algorithm to find the laptop in O(log N) time. Unforuntately, this results in higher memory usage and a slightly longer intialization time for our Inventory() class. However, employees perform customer budget checks frequently, so this method wins in the long run. \n",
    "\n",
    "By the end of this notebook, we have the following time efficient inventory class for laptop employees to use for efficiently querying their database:"
   ]
  },
  {
   "cell_type": "code",
   "execution_count": null,
   "metadata": {},
   "outputs": [],
   "source": [
    "class TimeEfficientInventory():\n",
    "    #____________________________________________\n",
    "    #initializes attributes: \n",
    "    # self.header, self.rows, self.id_to_row, self.prices, self.rows_by_price \n",
    "    def __init__(self,csv_filename):\n",
    "        #read file\n",
    "        with open(csv_filename, encoding = 'utf8') as file:\n",
    "            data = list(csv.reader(file))\n",
    "        #_____________\n",
    "        #assign self.header\n",
    "        header = data[0]\n",
    "        self.header = header\n",
    "        #___________\n",
    "        #assign self.rows\n",
    "        rows = data[1:] \n",
    "        self.rows = rows\n",
    "        #_______________________________\n",
    "        #convert price column to integer\n",
    "        for row in rows:                                    #O(N)\n",
    "            row[-1] = int(row[-1])                              #O(1)    \n",
    "        #______________________           \n",
    "        # assign self.id_to_row\n",
    "        self.id_to_row = {}\n",
    "        for row in rows:                                    #O(N)\n",
    "            laptop_id = row[0]                                  #O(1)\n",
    "            self.id_to_row[laptop_id] = row                     #O(1)\n",
    "        #__________________________________________\n",
    "        # assign self.prices, the set of all prices\n",
    "        self.prices = set()\n",
    "        for row in rows:                                    #O(N)\n",
    "            self.prices.add(row[-1])                            #O(1)\n",
    "        #_________________________________________\n",
    "        # helper function which eats a row, \n",
    "        # and returns its price - used for self.rows_by_price\n",
    "        def row_price(row):\n",
    "            return row[-1]\n",
    "        \n",
    "        # assign self.rows_by_price, \n",
    "        # a sorted version of rows\n",
    "        self.rows_by_price = sorted(rows, key = row_price)      #O(N log N)\n",
    "        \n",
    "    #______________________________________\n",
    "    #______________________________________\n",
    "    #given laptop_id, returns corresponding\n",
    "    #row using dictionary self.id_to_row\n",
    "    def get_laptop_from_id_fast(self, laptop_id):\n",
    "        if laptop_id in self.id_to_row:                     #O(1) lookup time, since dictionary uses hash table\n",
    "            return self.id_to_row[laptop_id]        \n",
    "        return None\n",
    "    \n",
    "    #______________________________________\n",
    "    #______________________________________\n",
    "    #same function as check_promotion_dollars\n",
    "    #uses the set of all prices self.prices\n",
    "    def check_promotion_dollars_fast(self, dollars):\n",
    "        if dollars in self.prices:                          #O(1)\n",
    "            return True\n",
    "        for row in self.rows:                               #O(N)\n",
    "            if (dollars - row[-1]) in self.prices:              #O(1)\n",
    "                return True  \n",
    "        return False\n",
    "    \n",
    "    #_________________________________\n",
    "    # uses self.rows_by_price to find first laptop outside\n",
    "    # budget range in O(log N) time using a binary search\n",
    "    def find_first_laptop_more_expensive(self, target_price):\n",
    "        #initialize possible index range  \n",
    "        lower_bound = 0\n",
    "        upper_bound = len(self.rows_by_price) - 1          \n",
    "\n",
    "        while lower_bound < upper_bound:                    #O(log N) <--- number of possible indices cut in half\n",
    "            #guess item at midpoint of index range                          each iteration \n",
    "            guess = (upper_bound + lower_bound)//2          \n",
    "            price = self.rows_by_price[guess][-1]\n",
    "            #if guess was too big, decrease upper range\n",
    "            if price > target_price:\n",
    "                upper_bound = guess\n",
    "            #if guess was too small, increase lower range\n",
    "            else:\n",
    "                lower_bound = guess + 1\n",
    "           \n",
    "           \n",
    "        price = self.rows_by_price[lower_bound][-1]\n",
    "        # if final guess is wrong, return -1 --> customer can afford all laptops\n",
    "        if price <= target_price:\n",
    "            return -1\n",
    "        return lower_bound"
   ]
  },
  {
   "attachments": {},
   "cell_type": "markdown",
   "metadata": {},
   "source": [
    "# About the Data\n",
    "\n",
    "The dataset used in this notebook was originally found [here](https://www.kaggle.com/ionaskel/laptop-prices). It contains information regarding the laptop inventory of a laptop store. Columns of the dataset are summarized in the following table.\n",
    "\n",
    "| Column name | Description |\n",
    "| --- | --- |\n",
    "| ID | A unique identifier for the laptop. |\n",
    "| Company | The name of the company that produces the laptop. |\n",
    "| Product | The name of the laptop. |\n",
    "| TypeName | The type of laptop. |\n",
    "| Inches | The size of the screen in inches. |\n",
    "| ScreenResolution | The resolution of the screen. |\n",
    "| CPU | The laptop CPU. |\n",
    "| RAM | The amount of RAM in the laptop. |\n",
    "| Memory | The size of the hard drive. |\n",
    "| GPU | The graphics card name. |\n",
    "| OpSys | The name of the operating system. |\n",
    "| Weight | The laptop weight. |\n",
    "| Price | The price of the laptop. |"
   ]
  },
  {
   "attachments": {},
   "cell_type": "markdown",
   "metadata": {},
   "source": [
    "# Reading in the Dataset\n",
    "\n",
    "We'll begin by using a context manager to open the laptop dataset."
   ]
  },
  {
   "cell_type": "code",
   "execution_count": 1,
   "metadata": {},
   "outputs": [],
   "source": [
    "import csv \n",
    "with open('laptops.csv', encoding = 'utf8') as file:\n",
    "    data = list(csv.reader(file))           #read in data as list of lists\n",
    "    header = data[0]                        #separate first item (header)\n",
    "    rows = data[1:]                         #store remaining data"
   ]
  },
  {
   "attachments": {},
   "cell_type": "markdown",
   "metadata": {},
   "source": [
    "Let's take a look at the first few rows."
   ]
  },
  {
   "cell_type": "code",
   "execution_count": 2,
   "metadata": {},
   "outputs": [
    {
     "name": "stdout",
     "output_type": "stream",
     "text": [
      "[   'Id',\n",
      "    'Company',\n",
      "    'Product',\n",
      "    'TypeName',\n",
      "    'Inches',\n",
      "    'ScreenResolution',\n",
      "    'Cpu',\n",
      "    'Ram',\n",
      "    'Memory',\n",
      "    'Gpu',\n",
      "    'OpSys',\n",
      "    'Weight',\n",
      "    'Price']\n",
      "[   [   '6571244',\n",
      "        'Apple',\n",
      "        'MacBook Pro',\n",
      "        'Ultrabook',\n",
      "        '13.3',\n",
      "        'IPS Panel Retina Display 2560x1600',\n",
      "        'Intel Core i5 2.3GHz',\n",
      "        '8GB',\n",
      "        '128GB SSD',\n",
      "        'Intel Iris Plus Graphics 640',\n",
      "        'macOS',\n",
      "        '1.37kg',\n",
      "        '1339'],\n",
      "    [   '7287764',\n",
      "        'Apple',\n",
      "        'Macbook Air',\n",
      "        'Ultrabook',\n",
      "        '13.3',\n",
      "        '1440x900',\n",
      "        'Intel Core i5 1.8GHz',\n",
      "        '8GB',\n",
      "        '128GB Flash Storage',\n",
      "        'Intel HD Graphics 6000',\n",
      "        'macOS',\n",
      "        '1.34kg',\n",
      "        '898'],\n",
      "    [   '3362737',\n",
      "        'HP',\n",
      "        '250 G6',\n",
      "        'Notebook',\n",
      "        '15.6',\n",
      "        'Full HD 1920x1080',\n",
      "        'Intel Core i5 7200U 2.5GHz',\n",
      "        '8GB',\n",
      "        '256GB SSD',\n",
      "        'Intel HD Graphics 620',\n",
      "        'No OS',\n",
      "        '1.86kg',\n",
      "        '575'],\n",
      "    [   '9722156',\n",
      "        'Apple',\n",
      "        'MacBook Pro',\n",
      "        'Ultrabook',\n",
      "        '15.4',\n",
      "        'IPS Panel Retina Display 2880x1800',\n",
      "        'Intel Core i7 2.7GHz',\n",
      "        '16GB',\n",
      "        '512GB SSD',\n",
      "        'AMD Radeon Pro 455',\n",
      "        'macOS',\n",
      "        '1.83kg',\n",
      "        '2537'],\n",
      "    [   '8550527',\n",
      "        'Apple',\n",
      "        'MacBook Pro',\n",
      "        'Ultrabook',\n",
      "        '13.3',\n",
      "        'IPS Panel Retina Display 2560x1600',\n",
      "        'Intel Core i5 3.1GHz',\n",
      "        '8GB',\n",
      "        '256GB SSD',\n",
      "        'Intel Iris Plus Graphics 650',\n",
      "        'macOS',\n",
      "        '1.37kg',\n",
      "        '1803']]\n"
     ]
    }
   ],
   "source": [
    "import pprint \n",
    "pp = pprint.PrettyPrinter(indent=4)\n",
    "pp.pprint(header)\n",
    "pp.pprint(rows[0:5])"
   ]
  },
  {
   "attachments": {},
   "cell_type": "markdown",
   "metadata": {},
   "source": [
    "# Building an Inventory Class"
   ]
  },
  {
   "attachments": {},
   "cell_type": "markdown",
   "metadata": {},
   "source": [
    "Let's create our first iteration of the Inventory() class with the same functionality as above. Namely, we create an Inventory() class which \n",
    "- accepts a csv_filename\n",
    "- initializes with attributes \"self.header\" and \"self.rows\" as above \n"
   ]
  },
  {
   "cell_type": "code",
   "execution_count": 3,
   "metadata": {},
   "outputs": [],
   "source": [
    "class Inventory():\n",
    "    def __init__(self,csv_filename):\n",
    "        with open(csv_filename, encoding = 'utf8') as file:\n",
    "            data = list(csv.reader(file))\n",
    "        header = data[0]\n",
    "        rows = data[1:]\n",
    "        \n",
    "        self.header = header\n",
    "        for row in rows:\n",
    "            row[-1] = int(row[-1])\n",
    "        self.rows = rows"
   ]
  },
  {
   "attachments": {},
   "cell_type": "markdown",
   "metadata": {},
   "source": [
    "We can check the functionality of this class by creating an instance, and looking at its header attribute. "
   ]
  },
  {
   "cell_type": "code",
   "execution_count": 4,
   "metadata": {},
   "outputs": [],
   "source": [
    "laptops = Inventory('laptops.csv')"
   ]
  },
  {
   "cell_type": "code",
   "execution_count": 5,
   "metadata": {},
   "outputs": [
    {
     "name": "stdout",
     "output_type": "stream",
     "text": [
      "['Id', 'Company', 'Product', 'TypeName', 'Inches', 'ScreenResolution', 'Cpu', 'Ram', 'Memory', 'Gpu', 'OpSys', 'Weight', 'Price']\n",
      "1303\n"
     ]
    }
   ],
   "source": [
    "print(laptops.header)\n",
    "print(len(laptops.rows))"
   ]
  },
  {
   "attachments": {},
   "cell_type": "markdown",
   "metadata": {},
   "source": [
    "## Two ID Search Methods: Time and Space Complexity Analysis"
   ]
  },
  {
   "attachments": {},
   "cell_type": "markdown",
   "metadata": {},
   "source": [
    "Recall that our first task is to implement a method into the inventory class which, given a laptop ID, finds the corresponding row. Let's begin with a naive approach at solving this problem.\n",
    "\n",
    "For future problems, we want to sort by price. Currently, however, the price is a string. Hence, we'll also convert the price column to integer upon initialization."
   ]
  },
  {
   "cell_type": "code",
   "execution_count": 6,
   "metadata": {},
   "outputs": [],
   "source": [
    "class Inventory():\n",
    "    #____________________________________________\n",
    "    #initializes attributes self.header, self.rows\n",
    "    def __init__(self,csv_filename):\n",
    "        #read file\n",
    "        with open(csv_filename, encoding = 'utf8') as file:\n",
    "            data = list(csv.reader(file))\n",
    "        #_____________\n",
    "        #assign header\n",
    "        header = data[0]\n",
    "        self.header = header\n",
    "        #___________\n",
    "        #assign rows\n",
    "        rows = data[1:] \n",
    "        self.rows = rows\n",
    "        #_______________________________\n",
    "        #convert price column to integer\n",
    "        for row in rows:                                        #O(N)\n",
    "            row[-1] = int(row[-1])                              #O(1)\n",
    "        \n",
    "    #______________________________________\n",
    "    #______________________________________\n",
    "    #given laptop_id, loops through rows, \n",
    "    #returns row with given laptop_id\n",
    "    def get_laptop_from_id(self, laptop_id):\n",
    "        for row in self.rows:                                   #O(N)\n",
    "            if row[0] == laptop_id:                             #O(1)\n",
    "                return row\n",
    "        return None            #if no laptop found, return None\n",
    "        "
   ]
  },
  {
   "attachments": {},
   "cell_type": "markdown",
   "metadata": {},
   "source": [
    "Note that the self.get_laptop_from_id() method loops through all the rows, and hence has time complxity O(N), where N is the number of rows in the dataset. Similarly, now the intialization loops through the rows, and has time complexity O(N). Let's check this on a few ID's."
   ]
  },
  {
   "cell_type": "code",
   "execution_count": 7,
   "metadata": {},
   "outputs": [
    {
     "name": "stdout",
     "output_type": "stream",
     "text": [
      "['3362737', 'HP', '250 G6', 'Notebook', '15.6', 'Full HD 1920x1080', 'Intel Core i5 7200U 2.5GHz', '8GB', '256GB SSD', 'Intel HD Graphics 620', 'No OS', '1.86kg', 575]\n",
      "None\n"
     ]
    }
   ],
   "source": [
    "laptops = Inventory('laptops.csv')\n",
    "print(laptops.get_laptop_from_id('3362737'))\n",
    "print(laptops.get_laptop_from_id('3362736'))"
   ]
  },
  {
   "attachments": {},
   "cell_type": "markdown",
   "metadata": {},
   "source": [
    "We can see that if laptop_id is in the dataset, it returns the corresponding row, and when laptop_id is not, our method returns \"None\".\n",
    "\n",
    "Since employees will likely query for laptop_id's frequently, it may be beneficial to store each row in a dictionary where the key is the appropriate laptop_id. This will cause some extra time for initialization, as well as some extra memory cost. However, using the dictionary, laptop_id lookups can be performed in O(1) time.\n",
    "\n",
    "We can implement this solution by amending the above class as shown below."
   ]
  },
  {
   "cell_type": "code",
   "execution_count": 50,
   "metadata": {},
   "outputs": [],
   "source": [
    "class Inventory():\n",
    "    #____________________________________________\n",
    "    #initializes attributes: \n",
    "    # self.header, self.rows, self.id_to_row\n",
    "    def __init__(self,csv_filename):\n",
    "        #read file\n",
    "        with open(csv_filename, encoding = 'utf8') as file:\n",
    "            data = list(csv.reader(file))\n",
    "        #_____________\n",
    "        #assign header\n",
    "        header = data[0]\n",
    "        self.header = header\n",
    "        #___________\n",
    "        #assign rows\n",
    "        rows = data[1:] \n",
    "        self.rows = rows\n",
    "        #_______________________________\n",
    "        #convert price column to integer\n",
    "        for row in rows:                                    #O(N)\n",
    "            row[-1] = int(row[-1])                              #O(1)    \n",
    "        #______________________           \n",
    "        # assign self.id_to_row\n",
    "        self.id_to_row = {}\n",
    "        for row in rows:                                    #O(N)\n",
    "            laptop_id = row[0]                                  #O(1)\n",
    "            self.id_to_row[laptop_id] = row                     #O(1)\n",
    "        \n",
    "    #______________________________________\n",
    "    #______________________________________\n",
    "    #given laptop_id, loops through rows, \n",
    "    #returns row with given laptop_id\n",
    "    def get_laptop_from_id(self, laptop_id):\n",
    "        for row in self.rows:                               #O(N)\n",
    "            if row[0] == laptop_id:                             #O(1)\n",
    "                return row\n",
    "        return None            #if no laptop found, return None\n",
    "\n",
    "    #______________________________________\n",
    "    #______________________________________\n",
    "    #given laptop_id, returns corresponding\n",
    "    #row using dictionary self.id_to_row\n",
    "    def get_laptop_from_id_fast(self, laptop_id):\n",
    "        if laptop_id in self.id_to_row:                     #O(1) lookup time, since dictionary uses hash table\n",
    "            return self.id_to_row[laptop_id]        \n",
    "        return None\n",
    "    "
   ]
  },
  {
   "attachments": {},
   "cell_type": "markdown",
   "metadata": {},
   "source": [
    "Initialization still requires O(N) time, but now using the fast function, we can do laptop_id lookups in constant time. Let's test the method out on a few ID's. "
   ]
  },
  {
   "cell_type": "code",
   "execution_count": 9,
   "metadata": {},
   "outputs": [
    {
     "name": "stdout",
     "output_type": "stream",
     "text": [
      "['3362737', 'HP', '250 G6', 'Notebook', '15.6', 'Full HD 1920x1080', 'Intel Core i5 7200U 2.5GHz', '8GB', '256GB SSD', 'Intel HD Graphics 620', 'No OS', '1.86kg', 575]\n",
      "None\n"
     ]
    }
   ],
   "source": [
    "laptops = Inventory('laptops.csv')\n",
    "\n",
    "print(laptops.get_laptop_from_id_fast('3362737'))\n",
    "\n",
    "print(laptops.get_laptop_from_id_fast('3362736'))"
   ]
  },
  {
   "attachments": {},
   "cell_type": "markdown",
   "metadata": {},
   "source": [
    "To conclude this section, let's verify the theoretical time complexity of each method. \n",
    "\n",
    "In this code cell, we setup the experiment to study the time complexity. Note that the id's are all integers bewteen 1000000 and 9999999."
   ]
  },
  {
   "cell_type": "code",
   "execution_count": 51,
   "metadata": {},
   "outputs": [],
   "source": [
    "import time,random\n",
    "\n",
    "N = 1303                    #number of rows in our dataset\n",
    "stepsize = 5                #time resolution \n",
    "num_trials = 50             #randomness resolution\n",
    "\n",
    "time_complexity_no_dict = []        #empty lists for plotting data\n",
    "time_complexity_dict = []\n",
    "data_size = []\n",
    "\n",
    "while N > 0:                        \n",
    "    ids = [str(random.randint(1000000,9999999)) for _ in range(num_trials)]\n",
    "    laptops = Inventory('laptops.csv')\n",
    "    laptops.rows = laptops.rows[0:N]        #make laptop.rows a length of N\n",
    "\n",
    "    total_time_no_dict = 0                  \n",
    "    for id in ids:\n",
    "        start = time.time()\n",
    "        laptops.get_laptop_from_id(id)\n",
    "        end = time.time()\n",
    "        total_time_no_dict += (end - start)     #total time to call get_laptop_from_id() (num_trials) times\n",
    "\n",
    "    mean_time_no_dict = total_time_no_dict/num_trials\n",
    "    time_complexity_no_dict.append(mean_time_no_dict)   #append means to dataset\n",
    "    \n",
    "    total_time_dict = 0\n",
    "    for id in ids:\n",
    "        start = time.time()\n",
    "        laptops.get_laptop_from_id_fast(id)\n",
    "        end = time.time()\n",
    "        total_time_dict += (end - start)           #total time to call get_laptop_from_id_fast() num_trials_times\n",
    "\n",
    "    mean_time_dict = total_time_dict/num_trials\n",
    "    time_complexity_dict.append(mean_time_dict)\n",
    "\n",
    "    data_size.append(N)\n",
    "    N = N - stepsize        #reduce N"
   ]
  },
  {
   "attachments": {},
   "cell_type": "markdown",
   "metadata": {},
   "source": [
    "Let's plot our results. "
   ]
  },
  {
   "cell_type": "code",
   "execution_count": 90,
   "metadata": {},
   "outputs": [
    {
     "name": "stderr",
     "output_type": "stream",
     "text": [
      "No artists with labels found to put in legend.  Note that artists whose label start with an underscore are ignored when legend() is called with no argument.\n"
     ]
    },
    {
     "data": {
      "text/plain": [
       "Text(135, 3.5e-05, 'O(N)')"
      ]
     },
     "execution_count": 90,
     "metadata": {},
     "output_type": "execute_result"
    },
    {
     "data": {
      "image/png": "[encoded data removed]",
      "text/plain": [
       "<Figure size 864x576 with 1 Axes>"
      ]
     },
     "metadata": {},
     "output_type": "display_data"
    }
   ],
   "source": [
    "import matplotlib.pyplot as plt\n",
    "plt.style.use('fivethirtyeight')\n",
    "#___________________________________________________________\n",
    "#Initial Plot\n",
    "fig,ax = plt.subplots(figsize = (12,8))\n",
    "ax.plot(data_size,time_complexity_no_dict, linewidth = 2, alpha = .8, color = 'dodgerblue')\n",
    "ax.plot(data_size,time_complexity_dict, linewidth = 2, color = 'darkviolet')\n",
    "#____________________________________________________________\n",
    "#Format grid, ticks, etc\n",
    "ax.legend()\n",
    "ax.set_xticks([0,400,800,1200])\n",
    "ax.set_xticklabels(['0','400','800','1200 laptops'])\n",
    "ax.set_yticks([0,.000020,.000040,.000060])\n",
    "ax.set_xlim(right = 1350)\n",
    "ax.set_yticklabels([])\n",
    "ax.set_ylim(top = .000075)\n",
    "ax.tick_params(colors = 'grey', which = 'both')\n",
    "#___________________________________________________________\n",
    "#create title,subtitle,signature bar\n",
    "ax.text(-75,.000085, 'Storing Dictionary Results in Fast ID Lookups', weight = 'bold', size = 26, alpha = .75)\n",
    "ax.text(-75,.000081, 'Time complexity comparison for ID lookups by looping through all', size = 19, alpha = .85)\n",
    "ax.text(-75,.000078, 'rows (       ) and dictionary lookup (          ) ', size = 19, alpha = .85)\n",
    "ax.text(x = -100, y = -.00002,\n",
    "    s = '   J. Wilson Peoples                                                                                                                Source: Kaggle Laptop Prices Dataset ',\n",
    "    fontsize = 12, color = '#f0f0f0', backgroundcolor = 'grey')\n",
    "#_____________________________________________________________\n",
    "#on figure annotations\n",
    "ax.text(x = 35, y = .000078, s ='blue', color = 'dodgerblue', size = 19)\n",
    "ax.text(x = 549, y = .000078, s ='purple', color = 'darkviolet', size = 19)\n",
    "\n",
    "ax.annotate(\"\", xy=(500, .00002), xytext=(220,.000035),\n",
    "            arrowprops=dict(width = 1.5, color = 'grey',alpha = .5))\n",
    "\n",
    "ax.text(x = -75, y = .000035, s ='complexity O(N)', color = 'grey', size = 19)\n",
    "ax.text(x = 135, y = .000035, s ='O(N)', color = 'dodgerblue', size = 19)\n",
    "\n"
   ]
  },
  {
   "attachments": {},
   "cell_type": "markdown",
   "metadata": {},
   "source": [
    "We see that the experimental time complexity coincide with our theoretical deductions. We conclude that implementing the self.id_to_row dictionary will save the laptop store employees quite a bit of time."
   ]
  },
  {
   "attachments": {},
   "cell_type": "markdown",
   "metadata": {},
   "source": [
    "## Maximizing Promotion Dollars Spent"
   ]
  },
  {
   "attachments": {},
   "cell_type": "markdown",
   "metadata": {},
   "source": [
    "Consider the following scenario. Occasionally, the laptop store holds a promotion where giftcards are given out to a select few customers. These can be used __one time only__ to purchase __up to two__ laptops. The store owner wants to ensure, before issuing a promotion, that customers will at least have the opportunity to spend all of the money on their giftcard. \n",
    "\n",
    "A natural way to solve this issue is to create a method which, given a value __dollars__, checks whether one or two laptops whose price(s) sum to exactly __dollars__.  Then, before issuing a promotion, this method can be called to see if exactly __dollars__ can be spent buying up to two laptops. \n",
    "\n",
    "Let's first solve this in a brute force way, looping through each row twice. "
   ]
  },
  {
   "cell_type": "code",
   "execution_count": 13,
   "metadata": {},
   "outputs": [],
   "source": [
    "class Inventory():\n",
    "    #____________________________________________\n",
    "    #initializes attributes: \n",
    "    # self.header, self.rows, self.id_to_row\n",
    "    def __init__(self,csv_filename):\n",
    "        #read file\n",
    "        with open(csv_filename, encoding = 'utf8') as file:\n",
    "            data = list(csv.reader(file))\n",
    "        #_____________\n",
    "        #assign header\n",
    "        header = data[0]\n",
    "        self.header = header\n",
    "        #___________\n",
    "        #assign rows\n",
    "        rows = data[1:] \n",
    "        self.rows = rows\n",
    "        #_______________________________\n",
    "        #convert price column to integer\n",
    "        for row in rows:                                    #O(N)\n",
    "            row[-1] = int(row[-1])                              #O(1)    \n",
    "        #______________________           \n",
    "        # assign self.id_to_row\n",
    "        self.id_to_row = {}\n",
    "        for row in rows:                                    #O(N)\n",
    "            laptop_id = row[0]                                  #O(1)\n",
    "            self.id_to_row[laptop_id] = row                     #O(1)\n",
    "        \n",
    "    #______________________________________\n",
    "    #______________________________________\n",
    "    #given laptop_id, loops through rows, \n",
    "    #returns row with given laptop_id\n",
    "    def get_laptop_from_id(self, laptop_id):\n",
    "        for row in self.rows:                               #O(N)\n",
    "            if row[0] == laptop_id:                             #O(1)\n",
    "                return row\n",
    "        return None            #if no laptop found, return None\n",
    "\n",
    "    #______________________________________\n",
    "    #______________________________________\n",
    "    #given laptop_id, returns corresponding\n",
    "    #row using dictionary self.id_to_row\n",
    "    def get_laptop_from_id_fast(self, laptop_id):\n",
    "        if laptop_id in self.id_to_row:                     #O(1) lookup time, since dictionary uses hash table\n",
    "            return self.id_to_row[laptop_id]        \n",
    "        return None\n",
    "    \n",
    "    #______________________________________\n",
    "    #______________________________________\n",
    "    #given dollars, returns True or False\n",
    "    #True: if exactly (dollars) can be spent\n",
    "    # purchasing up to two laptops\n",
    "    #False: otherwise\n",
    "    def check_promotion_dollars(self, dollars):\n",
    "        #see if any laptop costs exactly dollars\n",
    "        for row in self.rows:                               #O(N)         \n",
    "            if row[-1] == dollars:                              #O(1)\n",
    "                return True\n",
    "        #if not, check if two laptops have prices adding to dollars\n",
    "        for row_1 in self.rows:                             #O(N)\n",
    "            for row_2 in self.rows:                             #O(N) <---- total of O(N^2)\n",
    "                if (row_1[-1] + row_2[-1] == dollars):\n",
    "                    return True\n",
    "        #if neither case above, return false\n",
    "        return False"
   ]
  },
  {
   "attachments": {},
   "cell_type": "markdown",
   "metadata": {},
   "source": [
    "We'll confirm our new method words by calling it for some prices."
   ]
  },
  {
   "cell_type": "code",
   "execution_count": 14,
   "metadata": {},
   "outputs": [
    {
     "name": "stdout",
     "output_type": "stream",
     "text": [
      "True\n",
      "False\n"
     ]
    }
   ],
   "source": [
    "laptops = Inventory('laptops.csv')\n",
    "print(laptops.check_promotion_dollars(1000))\n",
    "print(laptops.check_promotion_dollars(442))\n"
   ]
  },
  {
   "attachments": {},
   "cell_type": "markdown",
   "metadata": {},
   "source": [
    "Note that from the comments above, the newly defined method has time complexity O(N^2), which is not desirable.\n",
    "\n",
    "If we instead store all the prices as a set during initialization (which takes O(N) time), then checking to see if any laptop costs exactly __dollars__ can be done in O(1) time. Moreover, we can see if any two laptops have prices summing to __dollars__ in the following way:\n",
    "\n",
    "- Loop through all the rows, and let __price__ be the price of that row.\n",
    "- If we buy an item for price __price__, we have __dollars__ - __price__ left over.\n",
    "- Hence, we only need to check if __dollars__ - __price__ is in the set of all prices.\n",
    "\n",
    "Taking the above steps should speed the promotion checking method up to O(N) time. We implement these ideas below. "
   ]
  },
  {
   "cell_type": "code",
   "execution_count": 15,
   "metadata": {},
   "outputs": [],
   "source": [
    "class Inventory():\n",
    "    #____________________________________________\n",
    "    #initializes attributes: \n",
    "    # self.header, self.rows, self.id_to_row, self.prices \n",
    "    def __init__(self,csv_filename):\n",
    "        #read file\n",
    "        with open(csv_filename, encoding = 'utf8') as file:\n",
    "            data = list(csv.reader(file))\n",
    "        #_____________\n",
    "        #assign header\n",
    "        header = data[0]\n",
    "        self.header = header\n",
    "        #___________\n",
    "        #assign rows\n",
    "        rows = data[1:] \n",
    "        self.rows = rows\n",
    "        #_______________________________\n",
    "        #convert price column to integer\n",
    "        for row in rows:                                    #O(N)\n",
    "            row[-1] = int(row[-1])                              #O(1)    \n",
    "        #______________________           \n",
    "        # assign self.id_to_row\n",
    "        self.id_to_row = {}\n",
    "        for row in rows:                                    #O(N)\n",
    "            laptop_id = row[0]                                  #O(1)\n",
    "            self.id_to_row[laptop_id] = row                     #O(1)\n",
    "\n",
    "        # assign self.prices, the set of all prices\n",
    "        self.prices = set()\n",
    "        for row in rows:                                    #O(N)\n",
    "            self.prices.add(row[-1])                            #O(1)\n",
    "        \n",
    "    #______________________________________\n",
    "    #______________________________________\n",
    "    #given laptop_id, loops through rows, \n",
    "    #returns row with given laptop_id\n",
    "    def get_laptop_from_id(self, laptop_id):\n",
    "        for row in self.rows:                               #O(N)\n",
    "            if row[0] == laptop_id:                             #O(1)\n",
    "                return row\n",
    "        return None            #if no laptop found, return None\n",
    "\n",
    "    #______________________________________\n",
    "    #______________________________________\n",
    "    #given laptop_id, returns corresponding\n",
    "    #row using dictionary self.id_to_row\n",
    "    def get_laptop_from_id_fast(self, laptop_id):\n",
    "        if laptop_id in self.id_to_row:                     #O(1) lookup time, since dictionary uses hash table\n",
    "            return self.id_to_row[laptop_id]        \n",
    "        return None\n",
    "    \n",
    "    #______________________________________\n",
    "    #______________________________________\n",
    "    #given dollars, returns True or False\n",
    "    #True: if exactly (dollars) can be spent\n",
    "    # purchasing up to two laptops\n",
    "    #False: otherwise\n",
    "    def check_promotion_dollars(self, dollars):\n",
    "        #see if any laptop costs exactly dollars\n",
    "        for row in self.rows:                               #O(N)         \n",
    "            if row[-1] == dollars:                              #O(1)\n",
    "                return True\n",
    "        #if not, check if two laptops have prices adding to dollars\n",
    "        for row_1 in self.rows:                             #O(N)\n",
    "            for row_2 in self.rows:                             #O(N) <---- total of O(N^2)\n",
    "                if (row_1[-1] + row_2[-1] == dollars):\n",
    "                    return True\n",
    "        #if neither case above, return false\n",
    "        return False\n",
    "    #______________________________________\n",
    "    #______________________________________\n",
    "    #same function as check_promotion_dollars\n",
    "    #uses the set of all prices self.prices\n",
    "    def check_promotion_dollars_fast(self, dollars):\n",
    "        if dollars in self.prices:                          #O(1)\n",
    "            return True\n",
    "        for row in self.rows:                               #O(N)\n",
    "            if (dollars - row[-1]) in self.prices:              #O(1)\n",
    "                return True  \n",
    "        return False"
   ]
  },
  {
   "attachments": {},
   "cell_type": "markdown",
   "metadata": {},
   "source": [
    "Again, we can test our newly defined method on the same rows as before. "
   ]
  },
  {
   "cell_type": "code",
   "execution_count": 16,
   "metadata": {},
   "outputs": [
    {
     "name": "stdout",
     "output_type": "stream",
     "text": [
      "True\n",
      "False\n"
     ]
    }
   ],
   "source": [
    "laptops = Inventory('laptops.csv')\n",
    "print(laptops.check_promotion_dollars_fast(1000))\n",
    "print(laptops.check_promotion_dollars_fast(442))"
   ]
  },
  {
   "attachments": {},
   "cell_type": "markdown",
   "metadata": {},
   "source": [
    "Let's again confirm our theotical deductions regarding runtime with an experiment. "
   ]
  },
  {
   "cell_type": "code",
   "execution_count": 17,
   "metadata": {},
   "outputs": [],
   "source": [
    "import time,random\n",
    "\n",
    "N = 1303                    #number of rows in our dataset\n",
    "stepsize = 10              #time resolution \n",
    "num_trials = 100            #randomness resolution\n",
    "\n",
    "time_complexity_no_set = []        #empty lists for plotting data\n",
    "time_complexity_set = []\n",
    "data_size = []\n",
    "\n",
    "while N > 0:                        \n",
    "    dollars_list = [random.randint(100,5000) for _ in range(num_trials)]\n",
    "    laptops = Inventory('laptops.csv')\n",
    "    laptops.rows = laptops.rows[0:N]        #make laptop.rows a length of N\n",
    "\n",
    "    total_time_no_set = 0                  \n",
    "    for dollars in dollars_list:\n",
    "        start = time.time()\n",
    "        laptops.check_promotion_dollars(dollars)\n",
    "        end = time.time()\n",
    "        total_time_no_set += (end - start)     #total time to call get_laptop_from_id() (num_trials) times\n",
    "\n",
    "    mean_time_no_set = total_time_no_set/num_trials\n",
    "    time_complexity_no_set.append(mean_time_no_set)   #append means to dataset\n",
    "    \n",
    "    total_time_set = 0\n",
    "    for dollars in dollars_list:\n",
    "        start = time.time()\n",
    "        laptops.check_promotion_dollars_fast(dollars)\n",
    "        end = time.time()\n",
    "        total_time_set += (end - start)           #total time to call get_laptop_from_id_fast() num_trials_times\n",
    "\n",
    "    mean_time_set = total_time_set/num_trials\n",
    "    time_complexity_set.append(mean_time_set)\n",
    "\n",
    "    data_size.append(N)\n",
    "    N = N - stepsize        #reduce N"
   ]
  },
  {
   "attachments": {},
   "cell_type": "markdown",
   "metadata": {},
   "source": [
    "Let's plot the results."
   ]
  },
  {
   "cell_type": "code",
   "execution_count": 37,
   "metadata": {},
   "outputs": [
    {
     "name": "stderr",
     "output_type": "stream",
     "text": [
      "No artists with labels found to put in legend.  Note that artists whose label start with an underscore are ignored when legend() is called with no argument.\n"
     ]
    },
    {
     "data": {
      "text/plain": [
       "Text(945, 0.00915, 'green')"
      ]
     },
     "execution_count": 37,
     "metadata": {},
     "output_type": "execute_result"
    },
    {
     "data": {
      "image/png": "[encoded data removed]",
      "text/plain": [
       "<Figure size 864x576 with 1 Axes>"
      ]
     },
     "metadata": {},
     "output_type": "display_data"
    }
   ],
   "source": [
    "import matplotlib.pyplot as plt\n",
    "#___________________________________________________________\n",
    "#Initial Plot\n",
    "fig,ax = plt.subplots(figsize = (12,8))\n",
    "ax.plot(data_size,time_complexity_no_set, linewidth = 2, alpha = .8, color = 'orangered')\n",
    "ax.plot(data_size,time_complexity_set, linewidth = 2, color = 'mediumseagreen')\n",
    "#____________________________________________________________\n",
    "#Format grid, ticks, etc\n",
    "ax.legend()\n",
    "ax.set_xticks([0,400,800,1200])\n",
    "ax.set_xticklabels(['0','400','800','1200 laptops'])\n",
    "ax.set_yticks([0,.0025,.005,.0075,.010])\n",
    "ax.set_xlim(right = 1350)\n",
    "ax.set_yticklabels([])\n",
    "ax.set_ylim(top = .008)\n",
    "ax.tick_params(colors = 'grey', which = 'both')\n",
    "#___________________________________________________________\n",
    "#create title,subtitle,signature bar\n",
    "ax.text(-75,.0100, 'Storing A Set of Unique Prices Improves Performance ', weight = 'bold', size = 26, alpha = .75)\n",
    "ax.text(-75,.0095, 'Time complexity comparison for valid promotion checking', size = 19, alpha = .85)\n",
    "ax.text(-75,.00915, 'using brute force (orange) vs. pre-saving a set of prices (green) ', size = 19, alpha = .85)\n",
    "ax.text(x = -100, y = -.002,\n",
    "    s = '   J. Wilson Peoples                                                                                                                       Source: Kaggle Laptop Prices Dataset ',\n",
    "    fontsize = 12, color = '#f0f0f0', backgroundcolor = 'grey')\n",
    "#_____________________________________________________________\n",
    "#on figure annotations\n",
    "ax.text(x = 255, y = .00915, s ='orange', color = 'orangered', size = 19)\n",
    "ax.text(x = 945, y = .00915, s ='green', color = 'mediumseagreen', size = 19)\n"
   ]
  },
  {
   "attachments": {},
   "cell_type": "markdown",
   "metadata": {},
   "source": [
    "In practice we see that both algorithms perform better than their worst case analysis. Nevertheless, the solution involving the set performs much faster. However, it does cost more memory to store the set of all prices. Overall, we choose the faster method since saving an extra set isn't too memory intensive."
   ]
  },
  {
   "attachments": {},
   "cell_type": "markdown",
   "metadata": {},
   "source": [
    "## Finding Laptops Within Budget"
   ]
  },
  {
   "attachments": {},
   "cell_type": "markdown",
   "metadata": {},
   "source": [
    "For the final query, we want employees to be able to efficiently find a laptop which best fits the customer's budget. \n",
    "\n",
    "Our basic idea is as follows:\n",
    "- Store an extra version of rows, sorted by price. \n",
    "- We can initialize this as an attribute __self.rows_by_price__. \n",
    "- With a sorted version of rows, we can use a binary search algorithm to find the most expensive laptop within a customer's budget.\n",
    "\n",
    "To begin, let's add in the __self.rows_by_price__ attribute and make sure its working properly. "
   ]
  },
  {
   "cell_type": "code",
   "execution_count": 38,
   "metadata": {},
   "outputs": [],
   "source": [
    "class Inventory():\n",
    "    #____________________________________________\n",
    "    #initializes attributes: \n",
    "    # self.header, self.rows, self.id_to_row, self.prices, self.rows_by_price \n",
    "    def __init__(self,csv_filename):\n",
    "        #read file\n",
    "        with open(csv_filename, encoding = 'utf8') as file:\n",
    "            data = list(csv.reader(file))\n",
    "        #_____________\n",
    "        #assign self.header\n",
    "        header = data[0]\n",
    "        self.header = header\n",
    "        #___________\n",
    "        #assign self.rows\n",
    "        rows = data[1:] \n",
    "        self.rows = rows\n",
    "        #_______________________________\n",
    "        #convert price column to integer\n",
    "        for row in rows:                                    #O(N)\n",
    "            row[-1] = int(row[-1])                              #O(1)    \n",
    "        #______________________           \n",
    "        # assign self.id_to_row\n",
    "        self.id_to_row = {}\n",
    "        for row in rows:                                    #O(N)\n",
    "            laptop_id = row[0]                                  #O(1)\n",
    "            self.id_to_row[laptop_id] = row                     #O(1)\n",
    "        #__________________________________________\n",
    "        # assign self.prices, the set of all prices\n",
    "        self.prices = set()\n",
    "        for row in rows:                                    #O(N)\n",
    "            self.prices.add(row[-1])                            #O(1)\n",
    "        #_________________________________________\n",
    "        # helper function which eats a row, \n",
    "        # and returns its price - used for self.rows_by_price\n",
    "        def row_price(row):\n",
    "            return row[-1]\n",
    "        \n",
    "        # assign self.rows_by_price, \n",
    "        # a sorted version of rows\n",
    "        self.rows_by_price = sorted(rows, key = row_price)      #O(N log N)\n",
    "        \n",
    "        \n",
    "    #______________________________________\n",
    "    #______________________________________\n",
    "    #given laptop_id, loops through rows, \n",
    "    #returns row with given laptop_id\n",
    "    def get_laptop_from_id(self, laptop_id):\n",
    "        for row in self.rows:                               #O(N)\n",
    "            if row[0] == laptop_id:                             #O(1)\n",
    "                return row\n",
    "        return None            #if no laptop found, return None\n",
    "\n",
    "    #______________________________________\n",
    "    #______________________________________\n",
    "    #given laptop_id, returns corresponding\n",
    "    #row using dictionary self.id_to_row\n",
    "    def get_laptop_from_id_fast(self, laptop_id):\n",
    "        if laptop_id in self.id_to_row:                     #O(1) lookup time, since dictionary uses hash table\n",
    "            return self.id_to_row[laptop_id]        \n",
    "        return None\n",
    "    \n",
    "    #______________________________________\n",
    "    #______________________________________\n",
    "    #given dollars, returns True or False\n",
    "    #True: if exactly (dollars) can be spent\n",
    "    # purchasing up to two laptops\n",
    "    #False: otherwise\n",
    "    def check_promotion_dollars(self, dollars):\n",
    "        #see if any laptop costs exactly dollars\n",
    "        for row in self.rows:                               #O(N)         \n",
    "            if row[-1] == dollars:                              #O(1)\n",
    "                return True\n",
    "        #if not, check if two laptops have prices adding to dollars\n",
    "        for row_1 in self.rows:                             #O(N)\n",
    "            for row_2 in self.rows:                             #O(N) <---- total of O(N^2)\n",
    "                if (row_1[-1] + row_2[-1] == dollars):\n",
    "                    return True\n",
    "        #if neither case above, return false\n",
    "        return False\n",
    "    #______________________________________\n",
    "    #______________________________________\n",
    "    #same function as check_promotion_dollars\n",
    "    #uses the set of all prices self.prices\n",
    "    def check_promotion_dollars_fast(self, dollars):\n",
    "        if dollars in self.prices:                          #O(1)\n",
    "            return True\n",
    "        for row in self.rows:                               #O(N)\n",
    "            if (dollars - row[-1]) in self.prices:              #O(1)\n",
    "                return True  \n",
    "        return False"
   ]
  },
  {
   "attachments": {},
   "cell_type": "markdown",
   "metadata": {},
   "source": [
    "Let's make sure these values are properly sorted according to increasing price."
   ]
  },
  {
   "cell_type": "code",
   "execution_count": 39,
   "metadata": {},
   "outputs": [
    {
     "name": "stdout",
     "output_type": "stream",
     "text": [
      "174\n",
      "191\n",
      "196\n",
      "199\n",
      "199\n"
     ]
    }
   ],
   "source": [
    "laptops = Inventory('laptops.csv')\n",
    "for i in range(0,5):\n",
    "    print(laptops.rows_by_price[i][-1])"
   ]
  },
  {
   "attachments": {},
   "cell_type": "markdown",
   "metadata": {},
   "source": [
    "We note that now during initialization, we call python's built in sorted() function to sort the rows by price. This is a bit of a [syntactic sugar](https://en.wikipedia.org/wiki/Syntactic_sugar#:~:text=In%20computer%20science%2C%20syntactic%20sugar,style%20that%20some%20may%20prefer), since this line of code actually takes O(N log N) time to run. However, this function uses the [timsort](https://en.wikipedia.org/wiki/Timsort#:~:text=Timsort%20is%20a%20hybrid%2C%20stable,in%20the%20Python%20programming%20language.) algorithm, which is considered one of the best sorting algorithms out there.\n",
    "\n",
    "Now, we'll define a method which uses a binary search to find the first laptop outside of the customer's budget. "
   ]
  },
  {
   "cell_type": "code",
   "execution_count": 2,
   "metadata": {},
   "outputs": [],
   "source": [
    "class Inventory():\n",
    "    #____________________________________________\n",
    "    #initializes attributes: \n",
    "    # self.header, self.rows, self.id_to_row, self.prices, self.rows_by_price \n",
    "    def __init__(self,csv_filename):\n",
    "        #read file\n",
    "        with open(csv_filename, encoding = 'utf8') as file:\n",
    "            data = list(csv.reader(file))\n",
    "        #_____________\n",
    "        #assign self.header\n",
    "        header = data[0]\n",
    "        self.header = header\n",
    "        #___________\n",
    "        #assign self.rows\n",
    "        rows = data[1:] \n",
    "        self.rows = rows\n",
    "        #_______________________________\n",
    "        #convert price column to integer\n",
    "        for row in rows:                                    #O(N)\n",
    "            row[-1] = int(row[-1])                              #O(1)    \n",
    "        #______________________           \n",
    "        # assign self.id_to_row\n",
    "        self.id_to_row = {}\n",
    "        for row in rows:                                    #O(N)\n",
    "            laptop_id = row[0]                                  #O(1)\n",
    "            self.id_to_row[laptop_id] = row                     #O(1)\n",
    "        #__________________________________________\n",
    "        # assign self.prices, the set of all prices\n",
    "        self.prices = set()\n",
    "        for row in rows:                                    #O(N)\n",
    "            self.prices.add(row[-1])                            #O(1)\n",
    "        #_________________________________________\n",
    "        # helper function which eats a row, \n",
    "        # and returns its price - used for self.rows_by_price\n",
    "        def row_price(row):\n",
    "            return row[-1]\n",
    "        \n",
    "        # assign self.rows_by_price, \n",
    "        # a sorted version of rows\n",
    "        self.rows_by_price = sorted(rows, key = row_price)      #O(N log N)\n",
    "        \n",
    "        \n",
    "    #______________________________________\n",
    "    #______________________________________\n",
    "    #given laptop_id, loops through rows, \n",
    "    #returns row with given laptop_id\n",
    "    def get_laptop_from_id(self, laptop_id):\n",
    "        for row in self.rows:                               #O(N)\n",
    "            if row[0] == laptop_id:                             #O(1)\n",
    "                return row\n",
    "        return None            #if no laptop found, return None\n",
    "\n",
    "    #______________________________________\n",
    "    #______________________________________\n",
    "    #given laptop_id, returns corresponding\n",
    "    #row using dictionary self.id_to_row\n",
    "    def get_laptop_from_id_fast(self, laptop_id):\n",
    "        if laptop_id in self.id_to_row:                     #O(1) lookup time, since dictionary uses hash table\n",
    "            return self.id_to_row[laptop_id]        \n",
    "        return None\n",
    "    \n",
    "    #______________________________________\n",
    "    #______________________________________\n",
    "    #given dollars, returns True or False\n",
    "    #True: if exactly (dollars) can be spent\n",
    "    # purchasing up to two laptops\n",
    "    #False: otherwise\n",
    "    def check_promotion_dollars(self, dollars):\n",
    "        #see if any laptop costs exactly dollars\n",
    "        for row in self.rows:                               #O(N)         \n",
    "            if row[-1] == dollars:                              #O(1)\n",
    "                return True\n",
    "        #if not, check if two laptops have prices adding to dollars\n",
    "        for row_1 in self.rows:                             #O(N)\n",
    "            for row_2 in self.rows:                             #O(N) <---- total of O(N^2)\n",
    "                if (row_1[-1] + row_2[-1] == dollars):\n",
    "                    return True\n",
    "        #if neither case above, return false\n",
    "        return False\n",
    "    #______________________________________\n",
    "    #______________________________________\n",
    "    #same function as check_promotion_dollars\n",
    "    #uses the set of all prices self.prices\n",
    "    def check_promotion_dollars_fast(self, dollars):\n",
    "        if dollars in self.prices:                          #O(1)\n",
    "            return True\n",
    "        for row in self.rows:                               #O(N)\n",
    "            if (dollars - row[-1]) in self.prices:              #O(1)\n",
    "                return True  \n",
    "        return False\n",
    "    \n",
    "    #_________________________________\n",
    "    # uses self.rows_by_price to find first laptop outside\n",
    "    # budget range in O(log N) time using a binary search\n",
    "    def find_first_laptop_more_expensive(self, target_price):\n",
    "        #initialize possible index range  \n",
    "        lower_bound = 0\n",
    "        upper_bound = len(self.rows_by_price) - 1          \n",
    "\n",
    "        while lower_bound < upper_bound:                    #O(log N) <--- number of possible indices cut in half\n",
    "            #guess item at midpoint of index range                          each iteration \n",
    "            guess = (upper_bound + lower_bound)//2          \n",
    "            price = self.rows_by_price[guess][-1]\n",
    "            #if guess was too big, decrease upper range\n",
    "            if price > target_price:\n",
    "                upper_bound = guess\n",
    "            #if guess was too small, increase lower range\n",
    "            else:\n",
    "                lower_bound = guess + 1\n",
    "           \n",
    "           \n",
    "        price = self.rows_by_price[lower_bound][-1]\n",
    "        # if final guess is wrong, return -1 --> customer can afford all laptops\n",
    "        if price <= target_price:\n",
    "            return -1\n",
    "        return lower_bound\n",
    "            "
   ]
  },
  {
   "attachments": {},
   "cell_type": "markdown",
   "metadata": {},
   "source": [
    "Let's test this method on some budgets. "
   ]
  },
  {
   "cell_type": "code",
   "execution_count": 5,
   "metadata": {},
   "outputs": [
    {
     "name": "stdout",
     "output_type": "stream",
     "text": [
      "683\n",
      "-1\n"
     ]
    }
   ],
   "source": [
    "laptops = Inventory('laptops.csv')\n",
    "\n",
    "print(laptops.find_first_laptop_more_expensive(1000))\n",
    "print(laptops.find_first_laptop_more_expensive(10000))"
   ]
  },
  {
   "attachments": {},
   "cell_type": "markdown",
   "metadata": {},
   "source": [
    "Using this, we can quickly find the first laptop outside of the customer's budget, and all laptops within the budget. For instance, for a budget of \\$1,000, we can find the cheapest laptop more expensive than \\$1,000:"
   ]
  },
  {
   "cell_type": "code",
   "execution_count": 7,
   "metadata": {},
   "outputs": [
    {
     "name": "stdout",
     "output_type": "stream",
     "text": [
      "['8747948', 'Lenovo', 'ThinkPad T460', 'Notebook', '14', '1366x768', 'Intel Core i5 6200U 2.3GHz', '4GB', '508GB Hybrid', 'Intel HD Graphics 520', 'Windows 7', '1.70kg', 1002]\n",
      "query time:0.0000381470\n"
     ]
    }
   ],
   "source": [
    "budget = 1000\n",
    "start = time.time()\n",
    "index = laptops.find_first_laptop_more_expensive(budget)\n",
    "end = time.time()\n",
    "print(laptops.rows_by_price[index])\n",
    "print(\"query time:{time:.10f}\".format(time = end - start))"
   ]
  },
  {
   "attachments": {},
   "cell_type": "markdown",
   "metadata": {},
   "source": [
    "We can also easily extract all laptops within the customer's price range, sorted by price:"
   ]
  },
  {
   "cell_type": "code",
   "execution_count": 8,
   "metadata": {},
   "outputs": [
    {
     "data": {
      "text/plain": [
       "[['3564228',\n",
       "  'Acer',\n",
       "  'C740-C9QX (3205U/2GB/32GB/Chrome',\n",
       "  'Netbook',\n",
       "  '11.6',\n",
       "  '1366x768',\n",
       "  'Intel Celeron Dual Core 3205U 1.5GHz',\n",
       "  '2GB',\n",
       "  '32GB SSD',\n",
       "  'Intel HD Graphics',\n",
       "  'Chrome OS',\n",
       "  '1.3kg',\n",
       "  174],\n",
       " ['7667029',\n",
       "  'Asus',\n",
       "  'Vivobook E200HA',\n",
       "  'Netbook',\n",
       "  '11.6',\n",
       "  '1366x768',\n",
       "  'Intel Atom x5-Z8350 1.44GHz',\n",
       "  '2GB',\n",
       "  '32GB Flash Storage',\n",
       "  'Intel HD Graphics 400',\n",
       "  'Windows 10',\n",
       "  '0.98kg',\n",
       "  191],\n",
       " ['1478754',\n",
       "  'Vero',\n",
       "  'V131 (X5-Z8350/4GB/32GB/FHD/W10)',\n",
       "  'Notebook',\n",
       "  '13.3',\n",
       "  'Full HD 1920x1080',\n",
       "  'Intel Atom X5-Z8350 1.44GHz',\n",
       "  '4GB',\n",
       "  '32GB Flash Storage',\n",
       "  'Intel HD Graphics 400',\n",
       "  'Windows 10',\n",
       "  '1.35kg',\n",
       "  196],\n",
       " ['4366200',\n",
       "  'Asus',\n",
       "  'E402WA-GA010T (E2-6110/2GB/32GB/W10)',\n",
       "  'Notebook',\n",
       "  '14',\n",
       "  '1366x768',\n",
       "  'AMD E-Series E2-6110 1.5GHz',\n",
       "  '2GB',\n",
       "  '32GB Flash Storage',\n",
       "  'AMD Radeon R2',\n",
       "  'Windows 10',\n",
       "  '1.65kg',\n",
       "  199],\n",
       " ['3840240',\n",
       "  'Acer',\n",
       "  'Chromebook C910-C2ST',\n",
       "  'Notebook',\n",
       "  '15.6',\n",
       "  '1366x768',\n",
       "  'Intel Celeron Dual Core 3205U 1.5GHz',\n",
       "  '2GB',\n",
       "  '16GB SSD',\n",
       "  'Intel HD Graphics',\n",
       "  'Chrome OS',\n",
       "  '2.19kg',\n",
       "  199]]"
      ]
     },
     "execution_count": 8,
     "metadata": {},
     "output_type": "execute_result"
    }
   ],
   "source": [
    "laptops.rows_by_price[0:index][0:5] #just printing the first 5"
   ]
  },
  {
   "attachments": {},
   "cell_type": "markdown",
   "metadata": {},
   "source": [
    "# Space/Time Complexity Tradeoffs\n",
    "\n",
    "Throughout designing each query, we've made tradeoffs between space complexity (storing additional items in memory) and time complexity. Depending on specific limitations of a business, different solutions may be optimal. \n",
    "\n",
    "For the laptop store, employees need to query the database in real time throughout the day, when interacting with customers. Hence, low time complexity is very important. On the other hand, the number of unqiue laptops is only about 1,300, so storing some extra values in memory isn't too much of an issue.  \n",
    "\n",
    "After removing all the slow versions of methods, we have the following time efficient inventory class."
   ]
  },
  {
   "cell_type": "code",
   "execution_count": null,
   "metadata": {},
   "outputs": [],
   "source": [
    "class TimeEfficientInventory():\n",
    "    #____________________________________________\n",
    "    #initializes attributes: \n",
    "    # self.header, self.rows, self.id_to_row, self.prices, self.rows_by_price \n",
    "    def __init__(self,csv_filename):\n",
    "        #read file\n",
    "        with open(csv_filename, encoding = 'utf8') as file:\n",
    "            data = list(csv.reader(file))\n",
    "        #_____________\n",
    "        #assign self.header\n",
    "        header = data[0]\n",
    "        self.header = header\n",
    "        #___________\n",
    "        #assign self.rows\n",
    "        rows = data[1:] \n",
    "        self.rows = rows\n",
    "        #_______________________________\n",
    "        #convert price column to integer\n",
    "        for row in rows:                                    #O(N)\n",
    "            row[-1] = int(row[-1])                              #O(1)    \n",
    "        #______________________           \n",
    "        # assign self.id_to_row\n",
    "        self.id_to_row = {}\n",
    "        for row in rows:                                    #O(N)\n",
    "            laptop_id = row[0]                                  #O(1)\n",
    "            self.id_to_row[laptop_id] = row                     #O(1)\n",
    "        #__________________________________________\n",
    "        # assign self.prices, the set of all prices\n",
    "        self.prices = set()\n",
    "        for row in rows:                                    #O(N)\n",
    "            self.prices.add(row[-1])                            #O(1)\n",
    "        #_________________________________________\n",
    "        # helper function which eats a row, \n",
    "        # and returns its price - used for self.rows_by_price\n",
    "        def row_price(row):\n",
    "            return row[-1]\n",
    "        \n",
    "        # assign self.rows_by_price, \n",
    "        # a sorted version of rows\n",
    "        self.rows_by_price = sorted(rows, key = row_price)      #O(N log N)\n",
    "        \n",
    "    #______________________________________\n",
    "    #______________________________________\n",
    "    #given laptop_id, returns corresponding\n",
    "    #row using dictionary self.id_to_row\n",
    "    def get_laptop_from_id_fast(self, laptop_id):\n",
    "        if laptop_id in self.id_to_row:                     #O(1) lookup time, since dictionary uses hash table\n",
    "            return self.id_to_row[laptop_id]        \n",
    "        return None\n",
    "    \n",
    "    #______________________________________\n",
    "    #______________________________________\n",
    "    #same function as check_promotion_dollars\n",
    "    #uses the set of all prices self.prices\n",
    "    def check_promotion_dollars_fast(self, dollars):\n",
    "        if dollars in self.prices:                          #O(1)\n",
    "            return True\n",
    "        for row in self.rows:                               #O(N)\n",
    "            if (dollars - row[-1]) in self.prices:              #O(1)\n",
    "                return True  \n",
    "        return False\n",
    "    \n",
    "    #_________________________________\n",
    "    # uses self.rows_by_price to find first laptop outside\n",
    "    # budget range in O(log N) time using a binary search\n",
    "    def find_first_laptop_more_expensive(self, target_price):\n",
    "        #initialize possible index range  \n",
    "        lower_bound = 0\n",
    "        upper_bound = len(self.rows_by_price) - 1          \n",
    "\n",
    "        while lower_bound < upper_bound:                    #O(log N) <--- number of possible indices cut in half\n",
    "            #guess item at midpoint of index range                          each iteration \n",
    "            guess = (upper_bound + lower_bound)//2          \n",
    "            price = self.rows_by_price[guess][-1]\n",
    "            #if guess was too big, decrease upper range\n",
    "            if price > target_price:\n",
    "                upper_bound = guess\n",
    "            #if guess was too small, increase lower range\n",
    "            else:\n",
    "                lower_bound = guess + 1\n",
    "           \n",
    "           \n",
    "        price = self.rows_by_price[lower_bound][-1]\n",
    "        # if final guess is wrong, return -1 --> customer can afford all laptops\n",
    "        if price <= target_price:\n",
    "            return -1\n",
    "        return lower_bound\n",
    "            "
   ]
  },
  {
   "attachments": {},
   "cell_type": "markdown",
   "metadata": {},
   "source": [
    "With the above class, we have a few obserations: \n",
    "- Intializing an instance of Inventory() takes O(N log N) time. \n",
    "- Additional attributes self.id_to_row, self.prices, and self.rows_by_price are stored.\n",
    "- This makes the above class time efficient, but more memory intensive.\n",
    "\n",
    "On the other-hand, we can remove the neccesity to store additional attributes by keeping only the slow versions of each method, as shown below."
   ]
  },
  {
   "cell_type": "code",
   "execution_count": null,
   "metadata": {},
   "outputs": [],
   "source": [
    "class MemoryEfficientInventory():\n",
    "    #____________________________________________\n",
    "    #initializes attributes: \n",
    "    # self.header, self.rows\n",
    "    def __init__(self,csv_filename):\n",
    "        #read file\n",
    "        with open(csv_filename, encoding = 'utf8') as file:\n",
    "            data = list(csv.reader(file))\n",
    "        #_____________\n",
    "        #assign self.header\n",
    "        header = data[0]\n",
    "        self.header = header\n",
    "        #___________\n",
    "        #assign self.rows\n",
    "        rows = data[1:] \n",
    "        self.rows = rows   \n",
    "        \n",
    "    #______________________________________\n",
    "    #______________________________________\n",
    "    #given laptop_id, loops through rows, \n",
    "    #returns row with given laptop_id\n",
    "    def get_laptop_from_id(self, laptop_id):\n",
    "        for row in self.rows:                               #O(N)\n",
    "            if row[0] == laptop_id:                             #O(1)\n",
    "                return row\n",
    "        return None            #if no laptop found, return None\n",
    "    \n",
    "    #______________________________________\n",
    "    #______________________________________\n",
    "    #given dollars, returns True or False\n",
    "    #True: if exactly (dollars) can be spent\n",
    "    # purchasing up to two laptops\n",
    "    #False: otherwise\n",
    "    def check_promotion_dollars(self, dollars):\n",
    "        #see if any laptop costs exactly dollars\n",
    "        for row in self.rows:                               #O(N)         \n",
    "            if int(row[-1]) == dollars:                              #O(1)\n",
    "                return True\n",
    "        #if not, check if two laptops have prices adding to dollars\n",
    "        for row_1 in self.rows:                             #O(N)\n",
    "            for row_2 in self.rows:                             #O(N) <---- total of O(N^2)\n",
    "                if (int(row_1[-1]) + int(row_2[-1]) == dollars):\n",
    "                    return True\n",
    "        #if neither case above, return false\n",
    "        return False"
   ]
  },
  {
   "attachments": {},
   "cell_type": "markdown",
   "metadata": {},
   "source": [
    "With the above class, notice that:\n",
    "- Initializing an instance of the MemoryEfficientInventory() class now takes O(1) time.\n",
    "- Only self.header, self.rows are stored in memory.\n",
    "\n",
    "We also note that a version the find_first_laptop_more_expensive() method could easily be implemented in this class by looping over every row. This would take O(N) time instead of O(log N)\n",
    "\n",
    "Overall, since this laptop store has sufficient memory and is focused on fast queries, we conclude on the TimeEfficientInventory() class."
   ]
  },
  {
   "attachments": {},
   "cell_type": "markdown",
   "metadata": {},
   "source": [
    "# Conlusion "
   ]
  },
  {
   "attachments": {},
   "cell_type": "markdown",
   "metadata": {},
   "source": [
    "In this notebook, we built an Inventory class for a laptop store so that employees can efficiently assist customers with finding laptops. Throughout the analysis, we studied the time complexity of various algorithms, as well as time/memory tradeoffs. \n",
    "\n",
    "Due to the specific needs of this laptop store, we built a __time efficient__ Inventory() class which allows employees to:\n",
    "- Find specific laptop data given its laptop_id in O(1) time.\n",
    "- Find up to two laptops whose total cost is exactly __d__ dollars in O(N) time.\n",
    "- Find laptops in a customer's price range in O(log N) time.\n",
    "\n",
    "Since the laptop inventory is not too large, and aabove queries need to be made frequently and efficiently, this solution fits the needs of the laptop store. "
   ]
  }
 ],
 "metadata": {
  "kernelspec": {
   "display_name": "Python 3",
   "language": "python",
   "name": "python3"
  },
  "language_info": {
   "codemirror_mode": {
    "name": "ipython",
    "version": 3
   },
   "file_extension": ".py",
   "mimetype": "text/x-python",
   "name": "python",
   "nbconvert_exporter": "python",
   "pygments_lexer": "ipython3",
   "version": "3.9.15"
  }
 },
 "nbformat": 4,
 "nbformat_minor": 2
}
