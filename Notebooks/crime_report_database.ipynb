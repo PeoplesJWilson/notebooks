{
 "cells": [
  {
   "attachments": {},
   "cell_type": "markdown",
   "metadata": {},
   "source": [
    "# Building a Crime Report Database with Postgres\n",
    "\n",
    "In this project, we'll be building a database for crime reports using Postgres. We'll begin with a csv file __boston.csv__, which contains information about crimes occuring in Boston. By the end, we'll have a database __crimes_db__ hosted on a Postgres server, along with a table __boston_crimes__. We'll also create groups with certain priviledges, such as readonly and readwrite, corresponding to the typical data roles of data analyst and data scientist, respectively. A diagram showing the end product is shown below.\n",
    "\n",
    "<p align=\"center\">\n",
    "<img src=\"photos/crim_db_diagram.jpg\"  width=\"400\">\n",
    "</p>"
   ]
  },
  {
   "attachments": {},
   "cell_type": "markdown",
   "metadata": {},
   "source": [
    "## Creating the Initial Database\n",
    "To begin, we'll create an empty database. \n",
    "\n",
    "Before doing so, we run the following code cell which drops any database, groups, or users created later on in this notebook. "
   ]
  },
  {
   "cell_type": "code",
   "execution_count": 1,
   "metadata": {},
   "outputs": [],
   "source": [
    "import psycopg2\n",
    "conn = psycopg2.connect(dbname=\"postgres\", user=\"postgres\", password=\"6288\")\n",
    "conn.autocommit = True\n",
    "cur = conn.cursor()\n",
    "cur.execute(\"DROP DATABASE IF EXISTS crime_db;\")\n",
    "cur.execute(\"DROP GROUP IF EXISTS readonly;\")\n",
    "cur.execute(\"DROP GROUP IF EXISTS readwrite;\")\n",
    "cur.execute(\"DROP USER IF EXISTS data_analyst;\")\n",
    "cur.execute(\"DROP USER IF EXISTS data_scientist;\")\n",
    "conn.close()"
   ]
  },
  {
   "attachments": {},
   "cell_type": "markdown",
   "metadata": {},
   "source": [
    "Now we can use the psycopg2 library to connect to postgresql, and create a database. "
   ]
  },
  {
   "cell_type": "code",
   "execution_count": 2,
   "metadata": {},
   "outputs": [],
   "source": [
    "conn = psycopg2.connect(dbname=\"postgres\", user=\"postgres\", password=\"6288\")\n",
    "conn.autocommit = True      # allows database to be created.\n",
    "cur = conn.cursor()\n",
    "cur.execute(\"CREATE DATABASE crime_db;\")\n",
    "conn.close()"
   ]
  },
  {
   "attachments": {},
   "cell_type": "markdown",
   "metadata": {},
   "source": [
    "Let's ensure the database is initialized properly by connecting to it, and create the \"crimes\" schema. "
   ]
  },
  {
   "cell_type": "code",
   "execution_count": 3,
   "metadata": {},
   "outputs": [],
   "source": [
    "conn = psycopg2.connect(dbname=\"crime_db\", user=\"postgres\", password=\"6288\")\n",
    "cur = conn.cursor()\n",
    "cur.execute(\"CREATE SCHEMA crimes;\")"
   ]
  },
  {
   "attachments": {},
   "cell_type": "markdown",
   "metadata": {},
   "source": [
    "This new connection will remain open until the end of the notebook. "
   ]
  },
  {
   "attachments": {},
   "cell_type": "markdown",
   "metadata": {},
   "source": [
    "## Data Exploration \n",
    "Let's load in the data we'll be using for this notebook. "
   ]
  },
  {
   "cell_type": "code",
   "execution_count": 4,
   "metadata": {},
   "outputs": [
    {
     "name": "stdout",
     "output_type": "stream",
     "text": [
      "column names:    ['incident_number', 'offense_code', 'description', 'date', 'day_of_the_week', 'lat', 'long']\n",
      " row example:   ['1', '619', 'LARCENY ALL OTHERS', '2018-09-02', 'Sunday', '42.35779134', '-71.13937053']\n"
     ]
    }
   ],
   "source": [
    "import csv \n",
    "\n",
    "with open('data/boston.csv') as f:\n",
    "    reader = csv.reader(f)\n",
    "    columns = next(reader)\n",
    "    first_row = next(reader)\n",
    "\n",
    "print(f\"column names:    {columns}\\n row example:   {first_row}\")"
   ]
  },
  {
   "attachments": {},
   "cell_type": "markdown",
   "metadata": {},
   "source": [
    "Here are some initial observations:\n",
    "- The dataset has 7 columns\n",
    "- __incident_number__ and __offense_code__ are integers\n",
    "- __lat__ and __long__ are floats standing for latitude and longitude of the crime commited\n",
    "- the __description__ column contains a short textual desciption of the crime\n",
    "\n",
    "For determining appropriate datatypes for each column, it will be useful to know how many unique answers there are for each column. We do this in the following code cell. "
   ]
  },
  {
   "cell_type": "code",
   "execution_count": 5,
   "metadata": {},
   "outputs": [
    {
     "name": "stdout",
     "output_type": "stream",
     "text": [
      "incident_number:  298329\n",
      "offense_code:  219\n",
      "description:  239\n",
      "date:  1177\n",
      "day_of_the_week:  7\n",
      "lat:  18177\n",
      "long:  18177\n"
     ]
    }
   ],
   "source": [
    "def get_col_set(file_path, col_index):\n",
    "    col_set = set()     #empty set for holding unique values in column\n",
    "    with open(file_path) as f:\n",
    "        next(f)\n",
    "        reader = csv.reader(f)\n",
    "        for row in reader:\n",
    "            col_set.add(row[col_index])     #add item to set\n",
    "    \n",
    "    return col_set \n",
    "\n",
    "# Displaying result of above function for each column\n",
    "for i in range(7):\n",
    "    print(f\"{columns[i]}:  {len(get_col_set('data/boston.csv',i))}\")"
   ]
  },
  {
   "attachments": {},
   "cell_type": "markdown",
   "metadata": {},
   "source": [
    "We see that the __day_of_the_week__ column has only 7 unique answers - this is expected, and suggests we should use an enumerated datatype for this columm. \n",
    "\n",
    "For the __description__ column, we suspect that VARCHAR(n) is an appropriate datatype. To determine a reasonable choice for n, let's check the current length of the longest description.  "
   ]
  },
  {
   "cell_type": "code",
   "execution_count": 7,
   "metadata": {},
   "outputs": [
    {
     "name": "stdout",
     "output_type": "stream",
     "text": [
      "maximum length of description:  58\n"
     ]
    }
   ],
   "source": [
    "#index of description column is 2\n",
    "\n",
    "descriptions = get_col_set('data/boston.csv',2)\n",
    "\n",
    "max_length = 0\n",
    "for description in descriptions:\n",
    "    if len(description) > max_length:\n",
    "        max_length = len(description)\n",
    "\n",
    "print(f\"maximum length of description:  {max_length}\")"
   ]
  },
  {
   "attachments": {},
   "cell_type": "markdown",
   "metadata": {},
   "source": [
    "This suggests we should choose a datatype of VARCHAR(n) with n > 58 to allow for potentially longer descriptions, but not too long so that we don't waste too much memory. \n",
    "\n",
    "Now, let's take a closer look at the __offense_code__ column. We need to determine the minimum and maximum code, in order to get an idea for how many bits we'll need to represent each code as an integer.  "
   ]
  },
  {
   "cell_type": "code",
   "execution_count": 8,
   "metadata": {},
   "outputs": [
    {
     "name": "stdout",
     "output_type": "stream",
     "text": [
      "maximum code is:    3831\n",
      "minimum code is:    111\n"
     ]
    }
   ],
   "source": [
    "codes = get_col_set('data/boston.csv',1)        #list of unique codes\n",
    "\n",
    "\n",
    "min_code = 10000\n",
    "max_code = 0\n",
    "\n",
    "for code in codes:\n",
    "    code = int(code)    \n",
    "    if code > max_code:\n",
    "        max_code = code                 #update largest code \n",
    "    if code < min_code:\n",
    "        min_code = code                 #update smallest code\n",
    "\n",
    "print(f\"maximum code is:    {max_code}\")\n",
    "print(f\"minimum code is:    {min_code}\")\n"
   ]
  },
  {
   "attachments": {},
   "cell_type": "markdown",
   "metadata": {},
   "source": [
    "This suggests we can use the smallint datatype for this columm, which only requires 4 bits."
   ]
  },
  {
   "attachments": {},
   "cell_type": "markdown",
   "metadata": {},
   "source": [
    "## Creating Table"
   ]
  },
  {
   "attachments": {},
   "cell_type": "markdown",
   "metadata": {},
   "source": [
    "Using our findings from the previous section, we can make an informed decision regarding the datatypes for each column. We summarize our final choices in the following table. "
   ]
  },
  {
   "attachments": {},
   "cell_type": "markdown",
   "metadata": {},
   "source": [
    "| column name | datatype |\n",
    "| --- | --- |\n",
    "| incident_number | serial |\n",
    "| offense_code | smallint |\n",
    "| description | varchar(2 X 58)|\n",
    "| date | date (ISO 8601)|\n",
    "| day_of_the_week | enumerated |\n",
    "| lat | DECIMAL |\n",
    "| long | DECIMAL |"
   ]
  },
  {
   "attachments": {},
   "cell_type": "markdown",
   "metadata": {},
   "source": [
    "Here are a couple of notes about our choices above:\n",
    "\n",
    "- Since there are only 7 unique answers for day of the week, we can save some storage space by having this as an enumerated datatype\n",
    "- According to the minimum and maximum offense_code, we can use the smallint datatype to represent this column\n",
    "- The __incident_number__ column counts from 1 to 298329, which is the number of rows. This suggests we use a serial datatype - this allows future crimes to be entered into the database without specifying a value for this column. \n",
    "\n",
    "Now, let's create the enumerated datatype. "
   ]
  },
  {
   "cell_type": "code",
   "execution_count": 8,
   "metadata": {},
   "outputs": [
    {
     "data": {
      "text/plain": [
       "{'Friday', 'Monday', 'Saturday', 'Sunday', 'Thursday', 'Tuesday', 'Wednesday'}"
      ]
     },
     "execution_count": 8,
     "metadata": {},
     "output_type": "execute_result"
    }
   ],
   "source": [
    "# double check format of column\n",
    "weekdays = get_col_set('data/boston.csv', 4)\n",
    "weekdays"
   ]
  },
  {
   "cell_type": "code",
   "execution_count": 9,
   "metadata": {},
   "outputs": [],
   "source": [
    "# create weekday_enum datatype with days in proper order\n",
    "query = \"CREATE TYPE weekday_enum AS ENUM ('Sunday', 'Monday', 'Tuesday', 'Wednesday', 'Thursday', 'Friday', 'Saturday');\"\n",
    "cur.execute(query)"
   ]
  },
  {
   "attachments": {},
   "cell_type": "markdown",
   "metadata": {},
   "source": [
    "With this datatype created, we're ready to create the table with proper datatypes specified for each column."
   ]
  },
  {
   "cell_type": "code",
   "execution_count": 10,
   "metadata": {},
   "outputs": [],
   "source": [
    "query = \"\"\"\n",
    "CREATE TABLE crimes.boston_crimes (\n",
    "    incident_number SERIAL PRIMARY KEY,\n",
    "    offense_code SMALLINT,\n",
    "    description VARCHAR(116),\n",
    "    date DATE,\n",
    "    day_of_the_week weekday_enum,\n",
    "    lat DECIMAL,\n",
    "    long DECIMAL\n",
    ");\n",
    "\"\"\"\n",
    "cur.execute(query)"
   ]
  },
  {
   "attachments": {},
   "cell_type": "markdown",
   "metadata": {},
   "source": [
    "Now we can use the copy_expert method of psycopg2 to copy the contents of the csv file __boston.csv__ to the __boston_crimes__ table we created above."
   ]
  },
  {
   "cell_type": "code",
   "execution_count": 11,
   "metadata": {},
   "outputs": [],
   "source": [
    "with open(\"data/boston.csv\") as f:\n",
    "    cur.copy_expert(\"COPY crimes.boston_crimes FROM STDIN WITH CSV HEADER;\", f)"
   ]
  },
  {
   "attachments": {},
   "cell_type": "markdown",
   "metadata": {},
   "source": [
    "Let's take a look at the first few rows to ensure everything above worked properly. "
   ]
  },
  {
   "cell_type": "code",
   "execution_count": 12,
   "metadata": {},
   "outputs": [
    {
     "name": "stdout",
     "output_type": "stream",
     "text": [
      "(1, 619, 'LARCENY ALL OTHERS', datetime.date(2018, 9, 2), 'Sunday', Decimal('42.35779134'), Decimal('-71.13937053'))\n",
      "(2, 1402, 'VANDALISM', datetime.date(2018, 8, 21), 'Tuesday', Decimal('42.30682138'), Decimal('-71.06030035'))\n",
      "(3, 3410, 'TOWED MOTOR VEHICLE', datetime.date(2018, 9, 3), 'Monday', Decimal('42.34658879'), Decimal('-71.07242943'))\n"
     ]
    }
   ],
   "source": [
    "cur.execute(\"SELECT * FROM crimes.boston_crimes LIMIT 3;\")\n",
    "results = cur.fetchall()\n",
    "for result in results:\n",
    "    print(result)"
   ]
  },
  {
   "attachments": {},
   "cell_type": "markdown",
   "metadata": {},
   "source": [
    "## Creating Groups"
   ]
  },
  {
   "attachments": {},
   "cell_type": "markdown",
   "metadata": {},
   "source": [
    "Now, we're going to create some groups. To begin, we revoke all privileges from the public schema."
   ]
  },
  {
   "cell_type": "code",
   "execution_count": 16,
   "metadata": {},
   "outputs": [],
   "source": [
    "cur.execute(\"REVOKE ALL ON SCHEMA public FROM public;\")\n",
    "cur.execute(\"REVOKE ALL ON DATABASE crime_db FROM public;\")"
   ]
  },
  {
   "attachments": {},
   "cell_type": "markdown",
   "metadata": {},
   "source": [
    "Now let's create two groups: readonly, and readwrite. readonly will only be able to select data from tables in the crime schema, while readwrite will be able to select, insert, delete and update. We'll also specify the NOLOGIN option when creating the group to ensure that logins can only be completed by users, not groups."
   ]
  },
  {
   "cell_type": "code",
   "execution_count": 17,
   "metadata": {},
   "outputs": [],
   "source": [
    "# create readonly and readwrite groups\n",
    "cur.execute(\"CREATE GROUP readonly NOLOGIN;\")\n",
    "cur.execute(\"CREATE GROUP readwrite NOLOGIN;\")\n",
    "\n",
    "# grant database connection priviledges to both\n",
    "cur.execute(\"GRANT CONNECT ON DATABASE crime_db TO readonly;\")\n",
    "cur.execute(\"GRANT CONNECT ON DATABASE crime_db TO readwrite;\")\n",
    "\n",
    "# grant usage priviledges on crimes schema\n",
    "cur.execute(\"GRANT USAGE ON SCHEMA crimes TO readonly;\")\n",
    "cur.execute(\"GRANT USAGE ON SCHEMA crimes TO readonly;\")\n",
    "\n",
    "# grant group specific priviliedges to corresponding group\n",
    "cur.execute(\"GRANT SELECT ON ALL TABLES IN SCHEMA crimes TO readonly;\")\n",
    "cur.execute(\"GRANT SELECT, INSERT, DELETE, UPDATE ON ALL TABLES IN SCHEMA crimes TO readwrite;\")"
   ]
  },
  {
   "attachments": {},
   "cell_type": "markdown",
   "metadata": {},
   "source": [
    "## Creating Users"
   ]
  },
  {
   "attachments": {},
   "cell_type": "markdown",
   "metadata": {},
   "source": [
    "Now that we have groups, let's create a user for each group. We'll create a data analyst user assigned to the readonly group, and a data scientist user assigned to the readwrite group. "
   ]
  },
  {
   "cell_type": "code",
   "execution_count": 18,
   "metadata": {},
   "outputs": [],
   "source": [
    "# create data_analyst user and assign to readonly group\n",
    "cur.execute(\"CREATE USER data_analyst WITH PASSWORD 'abc';\")\n",
    "cur.execute(\"GRANT readonly TO data_analyst;\")\n",
    "\n",
    "# create data_scientist user and assign to readwrite group\n",
    "cur.execute(\"CREATE USER data_scientist WITH PASSWORD '123';\")\n",
    "cur.execute(\"GRANT readwrite TO data_scientist;\")"
   ]
  },
  {
   "attachments": {},
   "cell_type": "markdown",
   "metadata": {},
   "source": [
    "Now, our desired database is created. Let's \"save\" our work by committing all executed queries, and closing the connection. "
   ]
  },
  {
   "cell_type": "code",
   "execution_count": 19,
   "metadata": {},
   "outputs": [],
   "source": [
    "conn.commit()\n",
    "conn.close()"
   ]
  },
  {
   "attachments": {},
   "cell_type": "markdown",
   "metadata": {},
   "source": [
    "In the following section, we'll use postgresql internal tables to take a closer look at the database to ensure everything is working properly. "
   ]
  },
  {
   "attachments": {},
   "cell_type": "markdown",
   "metadata": {},
   "source": [
    "## Testing"
   ]
  },
  {
   "attachments": {},
   "cell_type": "markdown",
   "metadata": {},
   "source": [
    "Let's begin by looking at the schemas present in our database. "
   ]
  },
  {
   "cell_type": "code",
   "execution_count": 20,
   "metadata": {},
   "outputs": [
    {
     "name": "stdout",
     "output_type": "stream",
     "text": [
      "('pg_toast',)\n",
      "('pg_temp_1',)\n",
      "('pg_toast_temp_1',)\n",
      "('pg_catalog',)\n",
      "('information_schema',)\n",
      "('public',)\n",
      "('crimes',)\n"
     ]
    }
   ],
   "source": [
    "conn = psycopg2.connect(dbname=\"crime_db\", user=\"postgres\", password=\"6288\")\n",
    "cur = conn.cursor()\n",
    "cur.execute(\"\"\"\n",
    "            SELECT schema_name FROM information_schema.schemata;\n",
    "            \"\"\")\n",
    "\n",
    "results = cur.fetchall()\n",
    "for result in results:\n",
    "    print(result)"
   ]
  },
  {
   "attachments": {},
   "cell_type": "markdown",
   "metadata": {},
   "source": [
    "We see that there are a number of internal schemas (with prefix \"pg_\"), as well as the public and information schemas. We also have the crimes schema which we created.\n",
    "\n",
    "Now, let's look at all tables within the crimes schema."
   ]
  },
  {
   "cell_type": "code",
   "execution_count": 21,
   "metadata": {},
   "outputs": [
    {
     "name": "stdout",
     "output_type": "stream",
     "text": [
      "('crime_db', 'crimes', 'boston_crimes', 'BASE TABLE', None, None, None, None, None, 'YES', 'NO', None)\n"
     ]
    }
   ],
   "source": [
    "cur.execute(\"SELECT * FROM information_schema.tables WHERE table_schema = 'crimes';\")\n",
    "\n",
    "results = cur.fetchall()\n",
    "for result in results:\n",
    "    print(result)"
   ]
  },
  {
   "attachments": {},
   "cell_type": "markdown",
   "metadata": {},
   "source": [
    "There is one table named \"boston_crimes\" that lives within the crimes schema of the crime_db database. This is the desired structure.\n",
    "\n",
    "Now, let's take a look at the users assigned to each group which we created. "
   ]
  },
  {
   "cell_type": "code",
   "execution_count": 22,
   "metadata": {},
   "outputs": [
    {
     "name": "stdout",
     "output_type": "stream",
     "text": [
      "('data_analyst', 'readonly', 'NO')\n",
      "('data_scientist', 'readwrite', 'NO')\n"
     ]
    }
   ],
   "source": [
    "cur.execute(\"\"\"\n",
    "            SELECT * FROM information_schema.applicable_roles \n",
    "            WHERE role_name = 'readonly' OR role_name = 'readwrite';\n",
    "            \"\"\")\n",
    "\n",
    "results = cur.fetchmany(5)\n",
    "for result in results:\n",
    "    print(result)"
   ]
  },
  {
   "attachments": {},
   "cell_type": "markdown",
   "metadata": {},
   "source": [
    "We see that the users we created are assigned to the proper group. Finally, let's conclude our checking by verifying the privileges of each group. "
   ]
  },
  {
   "cell_type": "code",
   "execution_count": 23,
   "metadata": {},
   "outputs": [
    {
     "name": "stdout",
     "output_type": "stream",
     "text": [
      "('readonly', 'SELECT')\n",
      "('readwrite', 'INSERT')\n",
      "('readwrite', 'SELECT')\n",
      "('readwrite', 'UPDATE')\n",
      "('readwrite', 'DELETE')\n"
     ]
    }
   ],
   "source": [
    "cur.execute(\"\"\"\n",
    "    SELECT grantee, privilege_type\n",
    "    FROM information_schema.table_privileges\n",
    "    WHERE grantee = 'readwrite' OR grantee = 'readonly';\n",
    "    \"\"\")\n",
    "results = cur.fetchall()\n",
    "for result in results:\n",
    "    print(result)"
   ]
  },
  {
   "attachments": {},
   "cell_type": "markdown",
   "metadata": {},
   "source": [
    "We see that the readonly group has select privileges, while the readwrite group has select, insert, update, and delete priviliges.  From these checks, we see that the crimes_db database has the desired stucture, as shown in the initial diagram.\n",
    "\n",
    "## Conclusion \n",
    "\n",
    "Overall, we were able to:\n",
    "- Create an empty database crimes_db with a single schema crimes\n",
    "- Analyze the boston.csv file to determine proper datatypes for each column\n",
    "- Use psycopg2's copy_expert method to copy the contents of boston.csv into a table in the crimes schema\n",
    "- Create two groups with specific privileges, and assign a user to each group\n",
    "- Utilize postgresql internal tables to verify the structure of our database\n",
    "\n",
    "Now that the data is stored efficiently in a Postgresql Database, relevant data can be efficiently retrieved for various analysis / ML tasks. Moreover, the data is protected from individuals who don't have data modification priviledges, such as data_analyst. "
   ]
  }
 ],
 "metadata": {
  "kernelspec": {
   "display_name": "env",
   "language": "python",
   "name": "python3"
  },
  "language_info": {
   "codemirror_mode": {
    "name": "ipython",
    "version": 3
   },
   "file_extension": ".py",
   "mimetype": "text/x-python",
   "name": "python",
   "nbconvert_exporter": "python",
   "pygments_lexer": "ipython3",
   "version": "3.8.10"
  },
  "orig_nbformat": 4
 },
 "nbformat": 4,
 "nbformat_minor": 2
}
