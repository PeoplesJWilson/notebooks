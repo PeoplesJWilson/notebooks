{
 "cells": [
  {
   "attachments": {},
   "cell_type": "markdown",
   "metadata": {},
   "source": [
    "# Solving Business Problems using SQL\n",
    "In this notebook, we'll be working with the [Chinook](https://github.com/lerocha/chinook-database) database. This database contains information about a fictional digital music store. \n",
    "\n",
    "By querying this database using sqlite, we'll attempt to obtain data driven answers to the following business questions:\n",
    "\n",
    "- Which genres are most popular? Should we invest in recruiting upcoming artists of a particular genre?\n",
    "- Are certain employees generating more revenue than others? If so, why is this the case? \n",
    "- Should marketing campaigns aimed towards any particular country be launched? \n",
    "- Would it be valuable to our customers to add an \"album purchase\" option to our website? \n",
    "\n",
    "# Summary of Results\n",
    "\n",
    "After querying the database to generate tables answering the above questions, we concluded that:\n",
    "- The rock genre is far and away the most popular. However, it may be more valuable to invest in upcoming artists from the Metal and Alternative/Punk genres. \n",
    "- All employees seem to be generating a similar amount of revenue. Any differences are likely accounted for by time spent at the company. \n",
    "- A few countries show potential for specific marketing campaigns, but this is based on a small amount of data. Smaller campaigns should first be launched targetting these countries in an effort to increase sample size before making a bigger decision. \n",
    "- About 20% of invoices correspond to album purchases. This seems like a significant enough percentage to suggest adding an \"album purchase\" feature to the website. \n",
    "\n"
   ]
  },
  {
   "attachments": {},
   "cell_type": "markdown",
   "metadata": {},
   "source": [
    "# The Chinook Database\n",
    "\n",
    "The following Schema diagram for the Chinook database was obtained from [DataQuest](https://app.dataquest.io)."
   ]
  },
  {
   "attachments": {},
   "cell_type": "markdown",
   "metadata": {},
   "source": [
    "<div>\n",
    "<img src=\"photos/chinook-schema.svg\" width=\"700\" height = \"700\" style=\"margin:auto\"/>\n",
    "</div>"
   ]
  },
  {
   "attachments": {},
   "cell_type": "markdown",
   "metadata": {},
   "source": [
    "# Initial Exploration\n",
    "To begin, we'll setup sqlite to run properly in this notebook."
   ]
  },
  {
   "cell_type": "code",
   "execution_count": 1,
   "metadata": {
    "collapsed": false
   },
   "outputs": [],
   "source": [
    "%%capture\n",
    "%load_ext sql\n",
    "%sql sqlite:///data/chinook.db"
   ]
  },
  {
   "attachments": {},
   "cell_type": "markdown",
   "metadata": {},
   "source": [
    "Now, we write a short query that gives us the name and type of any table or view in our database. Notice that before running this query, we drop two views (which are created later on in this notebook). This will solve any issues that may arise from running certain code-cells multiplie times. "
   ]
  },
  {
   "cell_type": "code",
   "execution_count": 2,
   "metadata": {
    "collapsed": false
   },
   "outputs": [
    {
     "name": "stdout",
     "output_type": "stream",
     "text": [
      " * sqlite:///data/chinook.db\n",
      "Done.\n",
      "Done.\n",
      "Done.\n"
     ]
    },
    {
     "data": {
      "text/html": [
       "<table>\n",
       "    <tr>\n",
       "        <th>name</th>\n",
       "        <th>type</th>\n",
       "    </tr>\n",
       "    <tr>\n",
       "        <td>album</td>\n",
       "        <td>table</td>\n",
       "    </tr>\n",
       "    <tr>\n",
       "        <td>artist</td>\n",
       "        <td>table</td>\n",
       "    </tr>\n",
       "    <tr>\n",
       "        <td>customer</td>\n",
       "        <td>table</td>\n",
       "    </tr>\n",
       "    <tr>\n",
       "        <td>employee</td>\n",
       "        <td>table</td>\n",
       "    </tr>\n",
       "    <tr>\n",
       "        <td>genre</td>\n",
       "        <td>table</td>\n",
       "    </tr>\n",
       "    <tr>\n",
       "        <td>invoice</td>\n",
       "        <td>table</td>\n",
       "    </tr>\n",
       "    <tr>\n",
       "        <td>invoice_line</td>\n",
       "        <td>table</td>\n",
       "    </tr>\n",
       "    <tr>\n",
       "        <td>media_type</td>\n",
       "        <td>table</td>\n",
       "    </tr>\n",
       "    <tr>\n",
       "        <td>playlist</td>\n",
       "        <td>table</td>\n",
       "    </tr>\n",
       "    <tr>\n",
       "        <td>playlist_track</td>\n",
       "        <td>table</td>\n",
       "    </tr>\n",
       "    <tr>\n",
       "        <td>track</td>\n",
       "        <td>table</td>\n",
       "    </tr>\n",
       "</table>"
      ],
      "text/plain": [
       "[('album', 'table'),\n",
       " ('artist', 'table'),\n",
       " ('customer', 'table'),\n",
       " ('employee', 'table'),\n",
       " ('genre', 'table'),\n",
       " ('invoice', 'table'),\n",
       " ('invoice_line', 'table'),\n",
       " ('media_type', 'table'),\n",
       " ('playlist', 'table'),\n",
       " ('playlist_track', 'table'),\n",
       " ('track', 'table')]"
      ]
     },
     "execution_count": 2,
     "metadata": {},
     "output_type": "execute_result"
    }
   ],
   "source": [
    "%%sql\n",
    "DROP VIEW IF EXISTS order_by_country;\n",
    "DROP VIEW IF EXISTS stats_by_country;\n",
    "SELECT\n",
    "    name,\n",
    "    type\n",
    "FROM sqlite_master\n",
    "WHERE type IN (\"table\",\"view\");"
   ]
  },
  {
   "attachments": {},
   "cell_type": "markdown",
   "metadata": {},
   "source": [
    "We see the name of each tabe. We can check our Schema diagram above that all tables are accounted for. Now, we can begin writing some queries to answer our questions. "
   ]
  },
  {
   "attachments": {},
   "cell_type": "markdown",
   "metadata": {},
   "source": [
    "# Most Popular Genres\n",
    "In the following query, we generate a table which answers the following questions:\n",
    "- How many tracks of each genre were sold? \n",
    "- What percentage of the total number of tracks sold does this account for? "
   ]
  },
  {
   "cell_type": "code",
   "execution_count": 6,
   "metadata": {
    "collapsed": false
   },
   "outputs": [
    {
     "name": "stdout",
     "output_type": "stream",
     "text": [
      " * sqlite:///data/chinook.db\n",
      "Done.\n"
     ]
    },
    {
     "data": {
      "text/html": [
       "<table>\n",
       "    <tr>\n",
       "        <th>genre</th>\n",
       "        <th>tracks_sold</th>\n",
       "        <th>percentage</th>\n",
       "    </tr>\n",
       "    <tr>\n",
       "        <td>Rock</td>\n",
       "        <td>2635</td>\n",
       "        <td>55.39</td>\n",
       "    </tr>\n",
       "    <tr>\n",
       "        <td>Metal</td>\n",
       "        <td>619</td>\n",
       "        <td>13.01</td>\n",
       "    </tr>\n",
       "    <tr>\n",
       "        <td>Alternative &amp; Punk</td>\n",
       "        <td>492</td>\n",
       "        <td>10.34</td>\n",
       "    </tr>\n",
       "    <tr>\n",
       "        <td>Latin</td>\n",
       "        <td>167</td>\n",
       "        <td>3.51</td>\n",
       "    </tr>\n",
       "    <tr>\n",
       "        <td>R&amp;B/Soul</td>\n",
       "        <td>159</td>\n",
       "        <td>3.34</td>\n",
       "    </tr>\n",
       "    <tr>\n",
       "        <td>Blues</td>\n",
       "        <td>124</td>\n",
       "        <td>2.61</td>\n",
       "    </tr>\n",
       "    <tr>\n",
       "        <td>Jazz</td>\n",
       "        <td>121</td>\n",
       "        <td>2.54</td>\n",
       "    </tr>\n",
       "    <tr>\n",
       "        <td>Alternative</td>\n",
       "        <td>117</td>\n",
       "        <td>2.46</td>\n",
       "    </tr>\n",
       "    <tr>\n",
       "        <td>Easy Listening</td>\n",
       "        <td>74</td>\n",
       "        <td>1.56</td>\n",
       "    </tr>\n",
       "    <tr>\n",
       "        <td>Pop</td>\n",
       "        <td>63</td>\n",
       "        <td>1.32</td>\n",
       "    </tr>\n",
       "    <tr>\n",
       "        <td>Electronica/Dance</td>\n",
       "        <td>55</td>\n",
       "        <td>1.16</td>\n",
       "    </tr>\n",
       "    <tr>\n",
       "        <td>Classical</td>\n",
       "        <td>47</td>\n",
       "        <td>0.99</td>\n",
       "    </tr>\n",
       "    <tr>\n",
       "        <td>Reggae</td>\n",
       "        <td>35</td>\n",
       "        <td>0.74</td>\n",
       "    </tr>\n",
       "    <tr>\n",
       "        <td>Hip Hop/Rap</td>\n",
       "        <td>33</td>\n",
       "        <td>0.69</td>\n",
       "    </tr>\n",
       "    <tr>\n",
       "        <td>Heavy Metal</td>\n",
       "        <td>8</td>\n",
       "        <td>0.17</td>\n",
       "    </tr>\n",
       "    <tr>\n",
       "        <td>Soundtrack</td>\n",
       "        <td>5</td>\n",
       "        <td>0.11</td>\n",
       "    </tr>\n",
       "    <tr>\n",
       "        <td>TV Shows</td>\n",
       "        <td>2</td>\n",
       "        <td>0.04</td>\n",
       "    </tr>\n",
       "    <tr>\n",
       "        <td>Drama</td>\n",
       "        <td>1</td>\n",
       "        <td>0.02</td>\n",
       "    </tr>\n",
       "</table>"
      ],
      "text/plain": [
       "[('Rock', 2635, 55.39),\n",
       " ('Metal', 619, 13.01),\n",
       " ('Alternative & Punk', 492, 10.34),\n",
       " ('Latin', 167, 3.51),\n",
       " ('R&B/Soul', 159, 3.34),\n",
       " ('Blues', 124, 2.61),\n",
       " ('Jazz', 121, 2.54),\n",
       " ('Alternative', 117, 2.46),\n",
       " ('Easy Listening', 74, 1.56),\n",
       " ('Pop', 63, 1.32),\n",
       " ('Electronica/Dance', 55, 1.16),\n",
       " ('Classical', 47, 0.99),\n",
       " ('Reggae', 35, 0.74),\n",
       " ('Hip Hop/Rap', 33, 0.69),\n",
       " ('Heavy Metal', 8, 0.17),\n",
       " ('Soundtrack', 5, 0.11),\n",
       " ('TV Shows', 2, 0.04),\n",
       " ('Drama', 1, 0.02)]"
      ]
     },
     "execution_count": 6,
     "metadata": {},
     "output_type": "execute_result"
    }
   ],
   "source": [
    "%%sql\n",
    "\n",
    "/* Use a with clause to generate a temprorary table\n",
    "contains genre, dollar amount of tracks_sold */\n",
    "\n",
    "WITH tracks_by_genre AS \n",
    "    (\n",
    "    SELECT \n",
    "        g.name AS genre,\n",
    "        CAST(SUM(il.quantity) AS float) AS tracks_sold /* cast as float for future percentage calculation */\n",
    "    FROM invoice_line AS il\n",
    "\n",
    "    /* join genre to invoice_line through track table (see Schema) */\n",
    "\n",
    "    INNER JOIN \n",
    "        track AS t \n",
    "        ON t.track_id = il.track_id\n",
    "    INNER JOIN \n",
    "        genre AS g \n",
    "        ON g.genre_id = t.genre_id\n",
    "    GROUP BY genre\n",
    "    )\n",
    "    \n",
    "/* Main query */\n",
    "\n",
    "SELECT\n",
    "    genre,\n",
    "    CAST(tracks_sold AS int) as tracks_sold,\n",
    "    ROUND(100*tracks_sold/(SELECT SUM(tracks_sold) \n",
    "        FROM tracks_by_genre)\n",
    "          ,2) AS percentage\n",
    "FROM tracks_by_genre\n",
    "ORDER BY tracks_sold DESC"
   ]
  },
  {
   "attachments": {},
   "cell_type": "markdown",
   "metadata": {},
   "source": [
    "Here, we see that Rock is by far the most popular genre, accounting for over 50% of the total number of tracks sold. Since a high percentage of these purchases likely correspond to older tracks, we reccomend searching for upcoming artists in the second & third most popular genres of Metal and Alternative/Punk. \n",
    "\n",
    "Next, we'll take a look at how emplyee perforamnce can be analyzed by looking at the employee, customer, and invoice tables. "
   ]
  },
  {
   "attachments": {},
   "cell_type": "markdown",
   "metadata": {},
   "source": [
    "# Analyzing Employee Performance\n",
    "\n",
    "Using the Schema, we can relate each customer to an employee who represents him/her. Hence, after relating each invoice to the customer who made the purchase, we can sum the total number of revenue associated with each sales representative. We do this with the following query. "
   ]
  },
  {
   "cell_type": "code",
   "execution_count": 8,
   "metadata": {
    "collapsed": false
   },
   "outputs": [
    {
     "name": "stdout",
     "output_type": "stream",
     "text": [
      " * sqlite:///data/chinook.db\n",
      "Done.\n"
     ]
    },
    {
     "data": {
      "text/html": [
       "<table>\n",
       "    <tr>\n",
       "        <th>employee_name</th>\n",
       "        <th>total_sales</th>\n",
       "        <th>hire_date</th>\n",
       "    </tr>\n",
       "    <tr>\n",
       "        <td>Jane Peacock</td>\n",
       "        <td>1731.5100000000039</td>\n",
       "        <td>2017-04-01 00:00:00</td>\n",
       "    </tr>\n",
       "    <tr>\n",
       "        <td>Margaret Park</td>\n",
       "        <td>1584.0000000000034</td>\n",
       "        <td>2017-05-03 00:00:00</td>\n",
       "    </tr>\n",
       "    <tr>\n",
       "        <td>Steve Johnson</td>\n",
       "        <td>1393.920000000002</td>\n",
       "        <td>2017-10-17 00:00:00</td>\n",
       "    </tr>\n",
       "</table>"
      ],
      "text/plain": [
       "[('Jane Peacock', 1731.5100000000039, '2017-04-01 00:00:00'),\n",
       " ('Margaret Park', 1584.0000000000034, '2017-05-03 00:00:00'),\n",
       " ('Steve Johnson', 1393.920000000002, '2017-10-17 00:00:00')]"
      ]
     },
     "execution_count": 8,
     "metadata": {},
     "output_type": "execute_result"
    }
   ],
   "source": [
    "%%sql\n",
    "SELECT \n",
    "    e.first_name || \" \" || e.last_name AS employee_name,\n",
    "    SUM(i.total) AS total_sales, /* total from invoices (to be grouped by employee name) */\n",
    "    e.hire_date\n",
    "FROM \n",
    "    invoice AS i\n",
    "LEFT JOIN\n",
    "    customer AS c\n",
    "    ON c.customer_id = i.customer_id\n",
    "LEFT JOIN \n",
    "    employee AS e\n",
    "    ON e.employee_id = c.support_rep_id /* left join each customer to their employee representative */\n",
    "GROUP BY employee_name;"
   ]
  },
  {
   "attachments": {},
   "cell_type": "markdown",
   "metadata": {},
   "source": [
    "From here we see that total sales is similar among each employee. Jane Peacock has the most, but she was also hired the earliest. After correcting for time spent at the company, it seems each employee is performing similarly. "
   ]
  },
  {
   "attachments": {},
   "cell_type": "markdown",
   "metadata": {},
   "source": [
    "# Analyzing Customers by Country \n",
    "\n",
    "To investigate if any countries should be specifically marketed towards, we write a query which tells us number of customers, sales, as well as other factors, for each country. \n",
    "\n",
    "To begin, we'll create two views: \n",
    "\n",
    "- one view which keeps track of the total dollar amount, customer, and country associated to each invoice\n",
    "- another view (using the first view) which computes some customer and sales statistics for each country \n"
   ]
  },
  {
   "cell_type": "code",
   "execution_count": 9,
   "metadata": {
    "collapsed": false
   },
   "outputs": [
    {
     "name": "stdout",
     "output_type": "stream",
     "text": [
      " * sqlite:///data/chinook.db\n",
      "Done.\n",
      "Done.\n",
      "Done.\n",
      "Done.\n"
     ]
    },
    {
     "data": {
      "text/plain": [
       "[]"
      ]
     },
     "execution_count": 9,
     "metadata": {},
     "output_type": "execute_result"
    }
   ],
   "source": [
    "%%sql\n",
    "DROP VIEW IF EXISTS order_by_country;\n",
    "CREATE VIEW order_by_country AS\n",
    "    SELECT\n",
    "        i.total,\n",
    "        c.customer_id,\n",
    "        c.first_name || \" \" || c.last_name AS customer_name,\n",
    "        c.country\n",
    "    FROM \n",
    "        invoice AS i\n",
    "    LEFT JOIN\n",
    "        customer AS c\n",
    "        ON c.customer_id = i.customer_id;\n",
    "    \n",
    "DROP VIEW IF EXISTS stats_by_country;   \n",
    "CREATE VIEW stats_by_country AS \n",
    "    SELECT\n",
    "        country, \n",
    "        COUNT(DISTINCT customer_id) AS number_of_customers,\n",
    "        ROUND(SUM(total),2) AS total_sales,\n",
    "        COUNT(customer_id) AS number_of_orders,   \n",
    "        ROUND(SUM(total)/(SELECT CAST(\n",
    "                    COUNT(DISTINCT customer_id) AS float)\n",
    "                FROM order_by_country\n",
    "                GROUP BY country),2)\n",
    "    AS sales_per_customer\n",
    "    FROM order_by_country\n",
    "    GROUP BY country;"
   ]
  },
  {
   "attachments": {},
   "cell_type": "markdown",
   "metadata": {},
   "source": [
    "With these views created, we can retrieve the data we need. A quick look at the above views reveal that many countries only have a single customer. We want to group all countries with only 1 customer into their own category, \"other.\" \n",
    "\n",
    "In the following query, we retrieve the information we need, while grouping countries with only a single customer into their own row. "
   ]
  },
  {
   "cell_type": "code",
   "execution_count": 15,
   "metadata": {
    "collapsed": false
   },
   "outputs": [
    {
     "name": "stdout",
     "output_type": "stream",
     "text": [
      " * sqlite:///data/chinook.db\n",
      "Done.\n"
     ]
    },
    {
     "data": {
      "text/html": [
       "<table>\n",
       "    <tr>\n",
       "        <th>country</th>\n",
       "        <th>number_of_customers</th>\n",
       "        <th>total_sales</th>\n",
       "        <th>sales_per_customer</th>\n",
       "        <th>sales_per_order</th>\n",
       "    </tr>\n",
       "    <tr>\n",
       "        <td>USA</td>\n",
       "        <td>13</td>\n",
       "        <td>1040.49</td>\n",
       "        <td>80.03769230769231</td>\n",
       "        <td>7.94</td>\n",
       "    </tr>\n",
       "    <tr>\n",
       "        <td>Canada</td>\n",
       "        <td>8</td>\n",
       "        <td>535.59</td>\n",
       "        <td>66.94875</td>\n",
       "        <td>7.05</td>\n",
       "    </tr>\n",
       "    <tr>\n",
       "        <td>Brazil</td>\n",
       "        <td>5</td>\n",
       "        <td>427.68</td>\n",
       "        <td>85.536</td>\n",
       "        <td>7.01</td>\n",
       "    </tr>\n",
       "    <tr>\n",
       "        <td>France</td>\n",
       "        <td>5</td>\n",
       "        <td>389.07</td>\n",
       "        <td>77.814</td>\n",
       "        <td>7.78</td>\n",
       "    </tr>\n",
       "    <tr>\n",
       "        <td>Germany</td>\n",
       "        <td>4</td>\n",
       "        <td>334.62</td>\n",
       "        <td>83.655</td>\n",
       "        <td>8.16</td>\n",
       "    </tr>\n",
       "    <tr>\n",
       "        <td>Czech Republic</td>\n",
       "        <td>2</td>\n",
       "        <td>273.24</td>\n",
       "        <td>136.62</td>\n",
       "        <td>9.11</td>\n",
       "    </tr>\n",
       "    <tr>\n",
       "        <td>United Kingdom</td>\n",
       "        <td>3</td>\n",
       "        <td>245.52</td>\n",
       "        <td>81.84</td>\n",
       "        <td>8.77</td>\n",
       "    </tr>\n",
       "    <tr>\n",
       "        <td>Portugal</td>\n",
       "        <td>2</td>\n",
       "        <td>185.13</td>\n",
       "        <td>92.565</td>\n",
       "        <td>6.38</td>\n",
       "    </tr>\n",
       "    <tr>\n",
       "        <td>India</td>\n",
       "        <td>2</td>\n",
       "        <td>183.15</td>\n",
       "        <td>91.575</td>\n",
       "        <td>8.72</td>\n",
       "    </tr>\n",
       "    <tr>\n",
       "        <td>Other</td>\n",
       "        <td>15</td>\n",
       "        <td>1094.94</td>\n",
       "        <td>72.99600000000001</td>\n",
       "        <td>111.66</td>\n",
       "    </tr>\n",
       "</table>"
      ],
      "text/plain": [
       "[('USA', 13, 1040.49, 80.03769230769231, 7.94),\n",
       " ('Canada', 8, 535.59, 66.94875, 7.05),\n",
       " ('Brazil', 5, 427.68, 85.536, 7.01),\n",
       " ('France', 5, 389.07, 77.814, 7.78),\n",
       " ('Germany', 4, 334.62, 83.655, 8.16),\n",
       " ('Czech Republic', 2, 273.24, 136.62, 9.11),\n",
       " ('United Kingdom', 3, 245.52, 81.84, 8.77),\n",
       " ('Portugal', 2, 185.13, 92.565, 6.38),\n",
       " ('India', 2, 183.15, 91.575, 8.72),\n",
       " ('Other', 15, 1094.94, 72.99600000000001, 111.66)]"
      ]
     },
     "execution_count": 15,
     "metadata": {},
     "output_type": "execute_result"
    }
   ],
   "source": [
    "%%sql\n",
    "SELECT\n",
    "    country,\n",
    "    number_of_customers,\n",
    "    total_sales,\n",
    "    sales_per_customer,\n",
    "    sales_per_order\n",
    "FROM \n",
    "    (\n",
    "    SELECT \n",
    "        country,\n",
    "        number_of_customers,\n",
    "        total_sales,\n",
    "        total_sales/number_of_customers AS sales_per_customer, \n",
    "        ROUND(total_sales/number_of_orders,2) AS sales_per_order,\n",
    "        \"A\" AS sorting\n",
    "    FROM stats_by_country\n",
    "    WHERE number_of_customers > 1\n",
    "\n",
    "    UNION \n",
    "\n",
    "    SELECT\n",
    "        \"Other\",\n",
    "        SUM(number_of_customers),\n",
    "        SUM(total_sales),\n",
    "        SUM(total_sales)/SUM(number_of_customers), \n",
    "        SUM(ROUND(total_sales/number_of_orders,2)) AS sales_per_order,\n",
    "        \"B\" AS sorting\n",
    "    FROM stats_by_country\n",
    "    WHERE number_of_customers = 1\n",
    "    )\n",
    "ORDER BY sorting, total_sales DESC \n"
   ]
  },
  {
   "attachments": {},
   "cell_type": "markdown",
   "metadata": {},
   "source": [
    "We see that a plurality of sales come from the \"Other\" category. This suggests that marketing towards any specific country may not be beneficial. However, Czech Republic, Portugal, and India have high values of sales_per_customer. \n",
    "\n",
    "Since the sample size for each country is so small, we recommend to not allocate too many resources towards targetting these countries specifically. Running smaller campaigns for these countries may allow a slight increase in sample size, which would give us a better idea as to whether or not larger campaigns would be useful. "
   ]
  },
  {
   "attachments": {},
   "cell_type": "markdown",
   "metadata": {},
   "source": [
    "# Detecting Album Purchases "
   ]
  },
  {
   "attachments": {},
   "cell_type": "markdown",
   "metadata": {},
   "source": [
    "To determine whether the company should add an album purchase feature, we would like to know the percentage of invoices which correspond to an album purchase. To do this, we use the following method: \n",
    "\n",
    "- For each row of invoice_line, store the track_id and album_id corresponding to the track purchased \n",
    "- For each invoice, compute the number of distinct albums purchased from, and the number of distinct tracks purchased\n",
    "- Album purchases correspond to invoices for which the number of distinct album_id's is 1, and the number of distinct tracks purchased is equal to the album length. \n",
    "\n",
    "This idea is implemented in the following query. "
   ]
  },
  {
   "cell_type": "code",
   "execution_count": 16,
   "metadata": {
    "collapsed": false
   },
   "outputs": [
    {
     "name": "stdout",
     "output_type": "stream",
     "text": [
      " * sqlite:///data/chinook.db\n",
      "Done.\n"
     ]
    },
    {
     "data": {
      "text/html": [
       "<table>\n",
       "    <tr>\n",
       "        <th>album_purchase</th>\n",
       "        <th>number_of_invoices</th>\n",
       "        <th>percent</th>\n",
       "    </tr>\n",
       "    <tr>\n",
       "        <td>no</td>\n",
       "        <td>500</td>\n",
       "        <td>0.814</td>\n",
       "    </tr>\n",
       "    <tr>\n",
       "        <td>yes</td>\n",
       "        <td>114</td>\n",
       "        <td>0.186</td>\n",
       "    </tr>\n",
       "</table>"
      ],
      "text/plain": [
       "[('no', 500, 0.814), ('yes', 114, 0.186)]"
      ]
     },
     "execution_count": 16,
     "metadata": {},
     "output_type": "execute_result"
    }
   ],
   "source": [
    "%%sql\n",
    "WITH \n",
    "    invoice_album AS\n",
    "        (\n",
    "        SELECT il.invoice_id,\n",
    "               il.invoice_line_id,\n",
    "               il.track_id,\n",
    "               t.album_id\n",
    "        FROM \n",
    "               invoice_line il \n",
    "        LEFT JOIN\n",
    "               track t\n",
    "               ON t.track_id = il.track_id\n",
    "        ),\n",
    "        \n",
    "    album_lengths AS \n",
    "        (\n",
    "        SELECT album_id, \n",
    "               COUNT(DISTINCT track_id) AS album_length\n",
    "        FROM track\n",
    "        GROUP BY album_id\n",
    "        )\n",
    "\n",
    "SELECT album_purchase, \n",
    "       COUNT(invoice_id) AS number_of_invoices, \n",
    "       ROUND(\n",
    "           CAST(\n",
    "               COUNT(\n",
    "                   invoice_id) AS float)/(SELECT \n",
    "                                          COUNT(invoice_id) FROM invoice),3) AS percent  \n",
    "FROM \n",
    "    (\n",
    "    SELECT ia.invoice_id,\n",
    "       COUNT(DISTINCT ia.album_id) AS num_albums, \n",
    "       COUNT(DISTINCT ia.track_id) AS distinct_songs,\n",
    "       MAX(ia.album_id) AS album_id,\n",
    "       al.album_length,\n",
    "       \"yes\" AS album_purchase\n",
    "    FROM invoice_album ia\n",
    "    LEFT JOIN album_lengths al\n",
    "          ON al.album_id = ia.album_id \n",
    "    GROUP BY invoice_id\n",
    "    HAVING (num_albums = 1) AND (distinct_songs = album_length)\n",
    "\n",
    "    UNION \n",
    "\n",
    "    SELECT ia.invoice_id,\n",
    "       COUNT(DISTINCT ia.album_id) AS num_albums, \n",
    "       COUNT(DISTINCT ia.track_id) AS distinct_songs,\n",
    "       MAX(ia.album_id) AS album_id,\n",
    "       al.album_length,\n",
    "       \"no\" AS album_purchase\n",
    "    FROM invoice_album ia\n",
    "    LEFT JOIN album_lengths al\n",
    "          ON al.album_id = ia.album_id \n",
    "    GROUP BY invoice_id\n",
    "    HAVING (num_albums != 1) OR (distinct_songs != album_length)\n",
    ")\n",
    "GROUP BY album_purchase\n"
   ]
  },
  {
   "attachments": {},
   "cell_type": "markdown",
   "metadata": {},
   "source": [
    "Based on this data, it seems that adding an album purchase option would be a worthwhile investment since it would make the purchasing process for 1/5 of all purchases much simpler.  "
   ]
  }
 ],
 "metadata": {
  "kernelspec": {
   "display_name": "Python 3",
   "language": "python",
   "name": "python3"
  },
  "language_info": {
   "codemirror_mode": {
    "name": "ipython",
    "version": 3
   },
   "file_extension": ".py",
   "mimetype": "text/x-python",
   "name": "python",
   "nbconvert_exporter": "python",
   "pygments_lexer": "ipython3",
   "version": "3.8.10"
  },
  "vscode": {
   "interpreter": {
    "hash": "916dbcbb3f70747c44a77c7bcd40155683ae19c65e1c03b4aa3499c5328201f1"
   }
  }
 },
 "nbformat": 4,
 "nbformat_minor": 2
}
